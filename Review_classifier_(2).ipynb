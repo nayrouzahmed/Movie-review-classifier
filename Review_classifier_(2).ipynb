{
  "nbformat": 4,
  "nbformat_minor": 0,
  "metadata": {
    "colab": {
      "provenance": []
    },
    "kernelspec": {
      "name": "python3",
      "display_name": "Python 3"
    },
    "language_info": {
      "name": "python"
    },
    "widgets": {
      "application/vnd.jupyter.widget-state+json": {
        "81c1fece281b43b6864a3c719c45d069": {
          "model_module": "@jupyter-widgets/controls",
          "model_name": "HBoxModel",
          "model_module_version": "1.5.0",
          "state": {
            "_dom_classes": [],
            "_model_module": "@jupyter-widgets/controls",
            "_model_module_version": "1.5.0",
            "_model_name": "HBoxModel",
            "_view_count": null,
            "_view_module": "@jupyter-widgets/controls",
            "_view_module_version": "1.5.0",
            "_view_name": "HBoxView",
            "box_style": "",
            "children": [
              "IPY_MODEL_960fe978fa09494aa93b78325c764fe8",
              "IPY_MODEL_43ffcb4e1d7d44fca8449614b71c437f",
              "IPY_MODEL_8a06167df6c34ad780f773ea04f2859f"
            ],
            "layout": "IPY_MODEL_ac4fd4d87aa341b49ba7f2d871e9defb"
          }
        },
        "960fe978fa09494aa93b78325c764fe8": {
          "model_module": "@jupyter-widgets/controls",
          "model_name": "HTMLModel",
          "model_module_version": "1.5.0",
          "state": {
            "_dom_classes": [],
            "_model_module": "@jupyter-widgets/controls",
            "_model_module_version": "1.5.0",
            "_model_name": "HTMLModel",
            "_view_count": null,
            "_view_module": "@jupyter-widgets/controls",
            "_view_module_version": "1.5.0",
            "_view_name": "HTMLView",
            "description": "",
            "description_tooltip": null,
            "layout": "IPY_MODEL_0b10e9c01a10436cad14ad0b4f9eda02",
            "placeholder": "​",
            "style": "IPY_MODEL_c8dfce0265f249fea1e5090b3125822b",
            "value": "Downloading (…)solve/main/vocab.txt: 100%"
          }
        },
        "43ffcb4e1d7d44fca8449614b71c437f": {
          "model_module": "@jupyter-widgets/controls",
          "model_name": "FloatProgressModel",
          "model_module_version": "1.5.0",
          "state": {
            "_dom_classes": [],
            "_model_module": "@jupyter-widgets/controls",
            "_model_module_version": "1.5.0",
            "_model_name": "FloatProgressModel",
            "_view_count": null,
            "_view_module": "@jupyter-widgets/controls",
            "_view_module_version": "1.5.0",
            "_view_name": "ProgressView",
            "bar_style": "success",
            "description": "",
            "description_tooltip": null,
            "layout": "IPY_MODEL_23020b1c7c044648a8d006de102c4ff4",
            "max": 213450,
            "min": 0,
            "orientation": "horizontal",
            "style": "IPY_MODEL_a3ff7d5b486e4128a46492101102ac36",
            "value": 213450
          }
        },
        "8a06167df6c34ad780f773ea04f2859f": {
          "model_module": "@jupyter-widgets/controls",
          "model_name": "HTMLModel",
          "model_module_version": "1.5.0",
          "state": {
            "_dom_classes": [],
            "_model_module": "@jupyter-widgets/controls",
            "_model_module_version": "1.5.0",
            "_model_name": "HTMLModel",
            "_view_count": null,
            "_view_module": "@jupyter-widgets/controls",
            "_view_module_version": "1.5.0",
            "_view_name": "HTMLView",
            "description": "",
            "description_tooltip": null,
            "layout": "IPY_MODEL_b1429fd102df456b916df1a098e7f758",
            "placeholder": "​",
            "style": "IPY_MODEL_2d32c922edc04776a0b657cd63d7f5be",
            "value": " 213k/213k [00:00&lt;00:00, 319kB/s]"
          }
        },
        "ac4fd4d87aa341b49ba7f2d871e9defb": {
          "model_module": "@jupyter-widgets/base",
          "model_name": "LayoutModel",
          "model_module_version": "1.2.0",
          "state": {
            "_model_module": "@jupyter-widgets/base",
            "_model_module_version": "1.2.0",
            "_model_name": "LayoutModel",
            "_view_count": null,
            "_view_module": "@jupyter-widgets/base",
            "_view_module_version": "1.2.0",
            "_view_name": "LayoutView",
            "align_content": null,
            "align_items": null,
            "align_self": null,
            "border": null,
            "bottom": null,
            "display": null,
            "flex": null,
            "flex_flow": null,
            "grid_area": null,
            "grid_auto_columns": null,
            "grid_auto_flow": null,
            "grid_auto_rows": null,
            "grid_column": null,
            "grid_gap": null,
            "grid_row": null,
            "grid_template_areas": null,
            "grid_template_columns": null,
            "grid_template_rows": null,
            "height": null,
            "justify_content": null,
            "justify_items": null,
            "left": null,
            "margin": null,
            "max_height": null,
            "max_width": null,
            "min_height": null,
            "min_width": null,
            "object_fit": null,
            "object_position": null,
            "order": null,
            "overflow": null,
            "overflow_x": null,
            "overflow_y": null,
            "padding": null,
            "right": null,
            "top": null,
            "visibility": null,
            "width": null
          }
        },
        "0b10e9c01a10436cad14ad0b4f9eda02": {
          "model_module": "@jupyter-widgets/base",
          "model_name": "LayoutModel",
          "model_module_version": "1.2.0",
          "state": {
            "_model_module": "@jupyter-widgets/base",
            "_model_module_version": "1.2.0",
            "_model_name": "LayoutModel",
            "_view_count": null,
            "_view_module": "@jupyter-widgets/base",
            "_view_module_version": "1.2.0",
            "_view_name": "LayoutView",
            "align_content": null,
            "align_items": null,
            "align_self": null,
            "border": null,
            "bottom": null,
            "display": null,
            "flex": null,
            "flex_flow": null,
            "grid_area": null,
            "grid_auto_columns": null,
            "grid_auto_flow": null,
            "grid_auto_rows": null,
            "grid_column": null,
            "grid_gap": null,
            "grid_row": null,
            "grid_template_areas": null,
            "grid_template_columns": null,
            "grid_template_rows": null,
            "height": null,
            "justify_content": null,
            "justify_items": null,
            "left": null,
            "margin": null,
            "max_height": null,
            "max_width": null,
            "min_height": null,
            "min_width": null,
            "object_fit": null,
            "object_position": null,
            "order": null,
            "overflow": null,
            "overflow_x": null,
            "overflow_y": null,
            "padding": null,
            "right": null,
            "top": null,
            "visibility": null,
            "width": null
          }
        },
        "c8dfce0265f249fea1e5090b3125822b": {
          "model_module": "@jupyter-widgets/controls",
          "model_name": "DescriptionStyleModel",
          "model_module_version": "1.5.0",
          "state": {
            "_model_module": "@jupyter-widgets/controls",
            "_model_module_version": "1.5.0",
            "_model_name": "DescriptionStyleModel",
            "_view_count": null,
            "_view_module": "@jupyter-widgets/base",
            "_view_module_version": "1.2.0",
            "_view_name": "StyleView",
            "description_width": ""
          }
        },
        "23020b1c7c044648a8d006de102c4ff4": {
          "model_module": "@jupyter-widgets/base",
          "model_name": "LayoutModel",
          "model_module_version": "1.2.0",
          "state": {
            "_model_module": "@jupyter-widgets/base",
            "_model_module_version": "1.2.0",
            "_model_name": "LayoutModel",
            "_view_count": null,
            "_view_module": "@jupyter-widgets/base",
            "_view_module_version": "1.2.0",
            "_view_name": "LayoutView",
            "align_content": null,
            "align_items": null,
            "align_self": null,
            "border": null,
            "bottom": null,
            "display": null,
            "flex": null,
            "flex_flow": null,
            "grid_area": null,
            "grid_auto_columns": null,
            "grid_auto_flow": null,
            "grid_auto_rows": null,
            "grid_column": null,
            "grid_gap": null,
            "grid_row": null,
            "grid_template_areas": null,
            "grid_template_columns": null,
            "grid_template_rows": null,
            "height": null,
            "justify_content": null,
            "justify_items": null,
            "left": null,
            "margin": null,
            "max_height": null,
            "max_width": null,
            "min_height": null,
            "min_width": null,
            "object_fit": null,
            "object_position": null,
            "order": null,
            "overflow": null,
            "overflow_x": null,
            "overflow_y": null,
            "padding": null,
            "right": null,
            "top": null,
            "visibility": null,
            "width": null
          }
        },
        "a3ff7d5b486e4128a46492101102ac36": {
          "model_module": "@jupyter-widgets/controls",
          "model_name": "ProgressStyleModel",
          "model_module_version": "1.5.0",
          "state": {
            "_model_module": "@jupyter-widgets/controls",
            "_model_module_version": "1.5.0",
            "_model_name": "ProgressStyleModel",
            "_view_count": null,
            "_view_module": "@jupyter-widgets/base",
            "_view_module_version": "1.2.0",
            "_view_name": "StyleView",
            "bar_color": null,
            "description_width": ""
          }
        },
        "b1429fd102df456b916df1a098e7f758": {
          "model_module": "@jupyter-widgets/base",
          "model_name": "LayoutModel",
          "model_module_version": "1.2.0",
          "state": {
            "_model_module": "@jupyter-widgets/base",
            "_model_module_version": "1.2.0",
            "_model_name": "LayoutModel",
            "_view_count": null,
            "_view_module": "@jupyter-widgets/base",
            "_view_module_version": "1.2.0",
            "_view_name": "LayoutView",
            "align_content": null,
            "align_items": null,
            "align_self": null,
            "border": null,
            "bottom": null,
            "display": null,
            "flex": null,
            "flex_flow": null,
            "grid_area": null,
            "grid_auto_columns": null,
            "grid_auto_flow": null,
            "grid_auto_rows": null,
            "grid_column": null,
            "grid_gap": null,
            "grid_row": null,
            "grid_template_areas": null,
            "grid_template_columns": null,
            "grid_template_rows": null,
            "height": null,
            "justify_content": null,
            "justify_items": null,
            "left": null,
            "margin": null,
            "max_height": null,
            "max_width": null,
            "min_height": null,
            "min_width": null,
            "object_fit": null,
            "object_position": null,
            "order": null,
            "overflow": null,
            "overflow_x": null,
            "overflow_y": null,
            "padding": null,
            "right": null,
            "top": null,
            "visibility": null,
            "width": null
          }
        },
        "2d32c922edc04776a0b657cd63d7f5be": {
          "model_module": "@jupyter-widgets/controls",
          "model_name": "DescriptionStyleModel",
          "model_module_version": "1.5.0",
          "state": {
            "_model_module": "@jupyter-widgets/controls",
            "_model_module_version": "1.5.0",
            "_model_name": "DescriptionStyleModel",
            "_view_count": null,
            "_view_module": "@jupyter-widgets/base",
            "_view_module_version": "1.2.0",
            "_view_name": "StyleView",
            "description_width": ""
          }
        },
        "b199d92bdbb64369af6fe00e9016b808": {
          "model_module": "@jupyter-widgets/controls",
          "model_name": "HBoxModel",
          "model_module_version": "1.5.0",
          "state": {
            "_dom_classes": [],
            "_model_module": "@jupyter-widgets/controls",
            "_model_module_version": "1.5.0",
            "_model_name": "HBoxModel",
            "_view_count": null,
            "_view_module": "@jupyter-widgets/controls",
            "_view_module_version": "1.5.0",
            "_view_name": "HBoxView",
            "box_style": "",
            "children": [
              "IPY_MODEL_9c8104b2e6124697b9285742da9f0d6a",
              "IPY_MODEL_06a666170ae94a5f91a11b37eb859782",
              "IPY_MODEL_a53d9f5719e541139bf54f4037f152d3"
            ],
            "layout": "IPY_MODEL_20e680da55d34b69a7ff9fb1fa10f881"
          }
        },
        "9c8104b2e6124697b9285742da9f0d6a": {
          "model_module": "@jupyter-widgets/controls",
          "model_name": "HTMLModel",
          "model_module_version": "1.5.0",
          "state": {
            "_dom_classes": [],
            "_model_module": "@jupyter-widgets/controls",
            "_model_module_version": "1.5.0",
            "_model_name": "HTMLModel",
            "_view_count": null,
            "_view_module": "@jupyter-widgets/controls",
            "_view_module_version": "1.5.0",
            "_view_name": "HTMLView",
            "description": "",
            "description_tooltip": null,
            "layout": "IPY_MODEL_c6878742e1d04a1c898634242aed6ec8",
            "placeholder": "​",
            "style": "IPY_MODEL_0745e3a95b0d4883a973ce9742f1f85d",
            "value": "Downloading (…)okenizer_config.json: 100%"
          }
        },
        "06a666170ae94a5f91a11b37eb859782": {
          "model_module": "@jupyter-widgets/controls",
          "model_name": "FloatProgressModel",
          "model_module_version": "1.5.0",
          "state": {
            "_dom_classes": [],
            "_model_module": "@jupyter-widgets/controls",
            "_model_module_version": "1.5.0",
            "_model_name": "FloatProgressModel",
            "_view_count": null,
            "_view_module": "@jupyter-widgets/controls",
            "_view_module_version": "1.5.0",
            "_view_name": "ProgressView",
            "bar_style": "success",
            "description": "",
            "description_tooltip": null,
            "layout": "IPY_MODEL_3fef6d615f464f308fbe54a911413f12",
            "max": 29,
            "min": 0,
            "orientation": "horizontal",
            "style": "IPY_MODEL_a964a8971ad74f6a95f3e404430b82c5",
            "value": 29
          }
        },
        "a53d9f5719e541139bf54f4037f152d3": {
          "model_module": "@jupyter-widgets/controls",
          "model_name": "HTMLModel",
          "model_module_version": "1.5.0",
          "state": {
            "_dom_classes": [],
            "_model_module": "@jupyter-widgets/controls",
            "_model_module_version": "1.5.0",
            "_model_name": "HTMLModel",
            "_view_count": null,
            "_view_module": "@jupyter-widgets/controls",
            "_view_module_version": "1.5.0",
            "_view_name": "HTMLView",
            "description": "",
            "description_tooltip": null,
            "layout": "IPY_MODEL_bcc4616271034291b3cf0ac0d3b18f81",
            "placeholder": "​",
            "style": "IPY_MODEL_5c13ca2687bc409dbb3bc1fbfcd2825e",
            "value": " 29.0/29.0 [00:00&lt;00:00, 461B/s]"
          }
        },
        "20e680da55d34b69a7ff9fb1fa10f881": {
          "model_module": "@jupyter-widgets/base",
          "model_name": "LayoutModel",
          "model_module_version": "1.2.0",
          "state": {
            "_model_module": "@jupyter-widgets/base",
            "_model_module_version": "1.2.0",
            "_model_name": "LayoutModel",
            "_view_count": null,
            "_view_module": "@jupyter-widgets/base",
            "_view_module_version": "1.2.0",
            "_view_name": "LayoutView",
            "align_content": null,
            "align_items": null,
            "align_self": null,
            "border": null,
            "bottom": null,
            "display": null,
            "flex": null,
            "flex_flow": null,
            "grid_area": null,
            "grid_auto_columns": null,
            "grid_auto_flow": null,
            "grid_auto_rows": null,
            "grid_column": null,
            "grid_gap": null,
            "grid_row": null,
            "grid_template_areas": null,
            "grid_template_columns": null,
            "grid_template_rows": null,
            "height": null,
            "justify_content": null,
            "justify_items": null,
            "left": null,
            "margin": null,
            "max_height": null,
            "max_width": null,
            "min_height": null,
            "min_width": null,
            "object_fit": null,
            "object_position": null,
            "order": null,
            "overflow": null,
            "overflow_x": null,
            "overflow_y": null,
            "padding": null,
            "right": null,
            "top": null,
            "visibility": null,
            "width": null
          }
        },
        "c6878742e1d04a1c898634242aed6ec8": {
          "model_module": "@jupyter-widgets/base",
          "model_name": "LayoutModel",
          "model_module_version": "1.2.0",
          "state": {
            "_model_module": "@jupyter-widgets/base",
            "_model_module_version": "1.2.0",
            "_model_name": "LayoutModel",
            "_view_count": null,
            "_view_module": "@jupyter-widgets/base",
            "_view_module_version": "1.2.0",
            "_view_name": "LayoutView",
            "align_content": null,
            "align_items": null,
            "align_self": null,
            "border": null,
            "bottom": null,
            "display": null,
            "flex": null,
            "flex_flow": null,
            "grid_area": null,
            "grid_auto_columns": null,
            "grid_auto_flow": null,
            "grid_auto_rows": null,
            "grid_column": null,
            "grid_gap": null,
            "grid_row": null,
            "grid_template_areas": null,
            "grid_template_columns": null,
            "grid_template_rows": null,
            "height": null,
            "justify_content": null,
            "justify_items": null,
            "left": null,
            "margin": null,
            "max_height": null,
            "max_width": null,
            "min_height": null,
            "min_width": null,
            "object_fit": null,
            "object_position": null,
            "order": null,
            "overflow": null,
            "overflow_x": null,
            "overflow_y": null,
            "padding": null,
            "right": null,
            "top": null,
            "visibility": null,
            "width": null
          }
        },
        "0745e3a95b0d4883a973ce9742f1f85d": {
          "model_module": "@jupyter-widgets/controls",
          "model_name": "DescriptionStyleModel",
          "model_module_version": "1.5.0",
          "state": {
            "_model_module": "@jupyter-widgets/controls",
            "_model_module_version": "1.5.0",
            "_model_name": "DescriptionStyleModel",
            "_view_count": null,
            "_view_module": "@jupyter-widgets/base",
            "_view_module_version": "1.2.0",
            "_view_name": "StyleView",
            "description_width": ""
          }
        },
        "3fef6d615f464f308fbe54a911413f12": {
          "model_module": "@jupyter-widgets/base",
          "model_name": "LayoutModel",
          "model_module_version": "1.2.0",
          "state": {
            "_model_module": "@jupyter-widgets/base",
            "_model_module_version": "1.2.0",
            "_model_name": "LayoutModel",
            "_view_count": null,
            "_view_module": "@jupyter-widgets/base",
            "_view_module_version": "1.2.0",
            "_view_name": "LayoutView",
            "align_content": null,
            "align_items": null,
            "align_self": null,
            "border": null,
            "bottom": null,
            "display": null,
            "flex": null,
            "flex_flow": null,
            "grid_area": null,
            "grid_auto_columns": null,
            "grid_auto_flow": null,
            "grid_auto_rows": null,
            "grid_column": null,
            "grid_gap": null,
            "grid_row": null,
            "grid_template_areas": null,
            "grid_template_columns": null,
            "grid_template_rows": null,
            "height": null,
            "justify_content": null,
            "justify_items": null,
            "left": null,
            "margin": null,
            "max_height": null,
            "max_width": null,
            "min_height": null,
            "min_width": null,
            "object_fit": null,
            "object_position": null,
            "order": null,
            "overflow": null,
            "overflow_x": null,
            "overflow_y": null,
            "padding": null,
            "right": null,
            "top": null,
            "visibility": null,
            "width": null
          }
        },
        "a964a8971ad74f6a95f3e404430b82c5": {
          "model_module": "@jupyter-widgets/controls",
          "model_name": "ProgressStyleModel",
          "model_module_version": "1.5.0",
          "state": {
            "_model_module": "@jupyter-widgets/controls",
            "_model_module_version": "1.5.0",
            "_model_name": "ProgressStyleModel",
            "_view_count": null,
            "_view_module": "@jupyter-widgets/base",
            "_view_module_version": "1.2.0",
            "_view_name": "StyleView",
            "bar_color": null,
            "description_width": ""
          }
        },
        "bcc4616271034291b3cf0ac0d3b18f81": {
          "model_module": "@jupyter-widgets/base",
          "model_name": "LayoutModel",
          "model_module_version": "1.2.0",
          "state": {
            "_model_module": "@jupyter-widgets/base",
            "_model_module_version": "1.2.0",
            "_model_name": "LayoutModel",
            "_view_count": null,
            "_view_module": "@jupyter-widgets/base",
            "_view_module_version": "1.2.0",
            "_view_name": "LayoutView",
            "align_content": null,
            "align_items": null,
            "align_self": null,
            "border": null,
            "bottom": null,
            "display": null,
            "flex": null,
            "flex_flow": null,
            "grid_area": null,
            "grid_auto_columns": null,
            "grid_auto_flow": null,
            "grid_auto_rows": null,
            "grid_column": null,
            "grid_gap": null,
            "grid_row": null,
            "grid_template_areas": null,
            "grid_template_columns": null,
            "grid_template_rows": null,
            "height": null,
            "justify_content": null,
            "justify_items": null,
            "left": null,
            "margin": null,
            "max_height": null,
            "max_width": null,
            "min_height": null,
            "min_width": null,
            "object_fit": null,
            "object_position": null,
            "order": null,
            "overflow": null,
            "overflow_x": null,
            "overflow_y": null,
            "padding": null,
            "right": null,
            "top": null,
            "visibility": null,
            "width": null
          }
        },
        "5c13ca2687bc409dbb3bc1fbfcd2825e": {
          "model_module": "@jupyter-widgets/controls",
          "model_name": "DescriptionStyleModel",
          "model_module_version": "1.5.0",
          "state": {
            "_model_module": "@jupyter-widgets/controls",
            "_model_module_version": "1.5.0",
            "_model_name": "DescriptionStyleModel",
            "_view_count": null,
            "_view_module": "@jupyter-widgets/base",
            "_view_module_version": "1.2.0",
            "_view_name": "StyleView",
            "description_width": ""
          }
        },
        "d45ff49b28af4468bd6a4f151539730c": {
          "model_module": "@jupyter-widgets/controls",
          "model_name": "HBoxModel",
          "model_module_version": "1.5.0",
          "state": {
            "_dom_classes": [],
            "_model_module": "@jupyter-widgets/controls",
            "_model_module_version": "1.5.0",
            "_model_name": "HBoxModel",
            "_view_count": null,
            "_view_module": "@jupyter-widgets/controls",
            "_view_module_version": "1.5.0",
            "_view_name": "HBoxView",
            "box_style": "",
            "children": [
              "IPY_MODEL_ac456dd3000b470d9e392284c193c813",
              "IPY_MODEL_cb530e65245043debd3ed1ed975bb333",
              "IPY_MODEL_16b97245caa34932a7a5bbae529654f1"
            ],
            "layout": "IPY_MODEL_f285d5a2382a4d95a3e541403112a68c"
          }
        },
        "ac456dd3000b470d9e392284c193c813": {
          "model_module": "@jupyter-widgets/controls",
          "model_name": "HTMLModel",
          "model_module_version": "1.5.0",
          "state": {
            "_dom_classes": [],
            "_model_module": "@jupyter-widgets/controls",
            "_model_module_version": "1.5.0",
            "_model_name": "HTMLModel",
            "_view_count": null,
            "_view_module": "@jupyter-widgets/controls",
            "_view_module_version": "1.5.0",
            "_view_name": "HTMLView",
            "description": "",
            "description_tooltip": null,
            "layout": "IPY_MODEL_007d42b9802d4d48a943a2abc0fc9493",
            "placeholder": "​",
            "style": "IPY_MODEL_2af3b443544c4aa993b0236b0b46739f",
            "value": "Downloading (…)lve/main/config.json: 100%"
          }
        },
        "cb530e65245043debd3ed1ed975bb333": {
          "model_module": "@jupyter-widgets/controls",
          "model_name": "FloatProgressModel",
          "model_module_version": "1.5.0",
          "state": {
            "_dom_classes": [],
            "_model_module": "@jupyter-widgets/controls",
            "_model_module_version": "1.5.0",
            "_model_name": "FloatProgressModel",
            "_view_count": null,
            "_view_module": "@jupyter-widgets/controls",
            "_view_module_version": "1.5.0",
            "_view_name": "ProgressView",
            "bar_style": "success",
            "description": "",
            "description_tooltip": null,
            "layout": "IPY_MODEL_b8dbd30c1abe47609390e220507d292f",
            "max": 570,
            "min": 0,
            "orientation": "horizontal",
            "style": "IPY_MODEL_0bcad86def4e41de99085e900e1d525b",
            "value": 570
          }
        },
        "16b97245caa34932a7a5bbae529654f1": {
          "model_module": "@jupyter-widgets/controls",
          "model_name": "HTMLModel",
          "model_module_version": "1.5.0",
          "state": {
            "_dom_classes": [],
            "_model_module": "@jupyter-widgets/controls",
            "_model_module_version": "1.5.0",
            "_model_name": "HTMLModel",
            "_view_count": null,
            "_view_module": "@jupyter-widgets/controls",
            "_view_module_version": "1.5.0",
            "_view_name": "HTMLView",
            "description": "",
            "description_tooltip": null,
            "layout": "IPY_MODEL_b458b996282f4a58be6688243c31f031",
            "placeholder": "​",
            "style": "IPY_MODEL_1fef09a179244cf582a57a2c4fa29e6b",
            "value": " 570/570 [00:00&lt;00:00, 22.4kB/s]"
          }
        },
        "f285d5a2382a4d95a3e541403112a68c": {
          "model_module": "@jupyter-widgets/base",
          "model_name": "LayoutModel",
          "model_module_version": "1.2.0",
          "state": {
            "_model_module": "@jupyter-widgets/base",
            "_model_module_version": "1.2.0",
            "_model_name": "LayoutModel",
            "_view_count": null,
            "_view_module": "@jupyter-widgets/base",
            "_view_module_version": "1.2.0",
            "_view_name": "LayoutView",
            "align_content": null,
            "align_items": null,
            "align_self": null,
            "border": null,
            "bottom": null,
            "display": null,
            "flex": null,
            "flex_flow": null,
            "grid_area": null,
            "grid_auto_columns": null,
            "grid_auto_flow": null,
            "grid_auto_rows": null,
            "grid_column": null,
            "grid_gap": null,
            "grid_row": null,
            "grid_template_areas": null,
            "grid_template_columns": null,
            "grid_template_rows": null,
            "height": null,
            "justify_content": null,
            "justify_items": null,
            "left": null,
            "margin": null,
            "max_height": null,
            "max_width": null,
            "min_height": null,
            "min_width": null,
            "object_fit": null,
            "object_position": null,
            "order": null,
            "overflow": null,
            "overflow_x": null,
            "overflow_y": null,
            "padding": null,
            "right": null,
            "top": null,
            "visibility": null,
            "width": null
          }
        },
        "007d42b9802d4d48a943a2abc0fc9493": {
          "model_module": "@jupyter-widgets/base",
          "model_name": "LayoutModel",
          "model_module_version": "1.2.0",
          "state": {
            "_model_module": "@jupyter-widgets/base",
            "_model_module_version": "1.2.0",
            "_model_name": "LayoutModel",
            "_view_count": null,
            "_view_module": "@jupyter-widgets/base",
            "_view_module_version": "1.2.0",
            "_view_name": "LayoutView",
            "align_content": null,
            "align_items": null,
            "align_self": null,
            "border": null,
            "bottom": null,
            "display": null,
            "flex": null,
            "flex_flow": null,
            "grid_area": null,
            "grid_auto_columns": null,
            "grid_auto_flow": null,
            "grid_auto_rows": null,
            "grid_column": null,
            "grid_gap": null,
            "grid_row": null,
            "grid_template_areas": null,
            "grid_template_columns": null,
            "grid_template_rows": null,
            "height": null,
            "justify_content": null,
            "justify_items": null,
            "left": null,
            "margin": null,
            "max_height": null,
            "max_width": null,
            "min_height": null,
            "min_width": null,
            "object_fit": null,
            "object_position": null,
            "order": null,
            "overflow": null,
            "overflow_x": null,
            "overflow_y": null,
            "padding": null,
            "right": null,
            "top": null,
            "visibility": null,
            "width": null
          }
        },
        "2af3b443544c4aa993b0236b0b46739f": {
          "model_module": "@jupyter-widgets/controls",
          "model_name": "DescriptionStyleModel",
          "model_module_version": "1.5.0",
          "state": {
            "_model_module": "@jupyter-widgets/controls",
            "_model_module_version": "1.5.0",
            "_model_name": "DescriptionStyleModel",
            "_view_count": null,
            "_view_module": "@jupyter-widgets/base",
            "_view_module_version": "1.2.0",
            "_view_name": "StyleView",
            "description_width": ""
          }
        },
        "b8dbd30c1abe47609390e220507d292f": {
          "model_module": "@jupyter-widgets/base",
          "model_name": "LayoutModel",
          "model_module_version": "1.2.0",
          "state": {
            "_model_module": "@jupyter-widgets/base",
            "_model_module_version": "1.2.0",
            "_model_name": "LayoutModel",
            "_view_count": null,
            "_view_module": "@jupyter-widgets/base",
            "_view_module_version": "1.2.0",
            "_view_name": "LayoutView",
            "align_content": null,
            "align_items": null,
            "align_self": null,
            "border": null,
            "bottom": null,
            "display": null,
            "flex": null,
            "flex_flow": null,
            "grid_area": null,
            "grid_auto_columns": null,
            "grid_auto_flow": null,
            "grid_auto_rows": null,
            "grid_column": null,
            "grid_gap": null,
            "grid_row": null,
            "grid_template_areas": null,
            "grid_template_columns": null,
            "grid_template_rows": null,
            "height": null,
            "justify_content": null,
            "justify_items": null,
            "left": null,
            "margin": null,
            "max_height": null,
            "max_width": null,
            "min_height": null,
            "min_width": null,
            "object_fit": null,
            "object_position": null,
            "order": null,
            "overflow": null,
            "overflow_x": null,
            "overflow_y": null,
            "padding": null,
            "right": null,
            "top": null,
            "visibility": null,
            "width": null
          }
        },
        "0bcad86def4e41de99085e900e1d525b": {
          "model_module": "@jupyter-widgets/controls",
          "model_name": "ProgressStyleModel",
          "model_module_version": "1.5.0",
          "state": {
            "_model_module": "@jupyter-widgets/controls",
            "_model_module_version": "1.5.0",
            "_model_name": "ProgressStyleModel",
            "_view_count": null,
            "_view_module": "@jupyter-widgets/base",
            "_view_module_version": "1.2.0",
            "_view_name": "StyleView",
            "bar_color": null,
            "description_width": ""
          }
        },
        "b458b996282f4a58be6688243c31f031": {
          "model_module": "@jupyter-widgets/base",
          "model_name": "LayoutModel",
          "model_module_version": "1.2.0",
          "state": {
            "_model_module": "@jupyter-widgets/base",
            "_model_module_version": "1.2.0",
            "_model_name": "LayoutModel",
            "_view_count": null,
            "_view_module": "@jupyter-widgets/base",
            "_view_module_version": "1.2.0",
            "_view_name": "LayoutView",
            "align_content": null,
            "align_items": null,
            "align_self": null,
            "border": null,
            "bottom": null,
            "display": null,
            "flex": null,
            "flex_flow": null,
            "grid_area": null,
            "grid_auto_columns": null,
            "grid_auto_flow": null,
            "grid_auto_rows": null,
            "grid_column": null,
            "grid_gap": null,
            "grid_row": null,
            "grid_template_areas": null,
            "grid_template_columns": null,
            "grid_template_rows": null,
            "height": null,
            "justify_content": null,
            "justify_items": null,
            "left": null,
            "margin": null,
            "max_height": null,
            "max_width": null,
            "min_height": null,
            "min_width": null,
            "object_fit": null,
            "object_position": null,
            "order": null,
            "overflow": null,
            "overflow_x": null,
            "overflow_y": null,
            "padding": null,
            "right": null,
            "top": null,
            "visibility": null,
            "width": null
          }
        },
        "1fef09a179244cf582a57a2c4fa29e6b": {
          "model_module": "@jupyter-widgets/controls",
          "model_name": "DescriptionStyleModel",
          "model_module_version": "1.5.0",
          "state": {
            "_model_module": "@jupyter-widgets/controls",
            "_model_module_version": "1.5.0",
            "_model_name": "DescriptionStyleModel",
            "_view_count": null,
            "_view_module": "@jupyter-widgets/base",
            "_view_module_version": "1.2.0",
            "_view_name": "StyleView",
            "description_width": ""
          }
        }
      }
    },
    "accelerator": "GPU",
    "gpuClass": "premium"
  },
  "cells": [
    {
      "cell_type": "code",
      "execution_count": null,
      "metadata": {
        "colab": {
          "base_uri": "https://localhost:8080/"
        },
        "id": "wZ4f2kZ2aQ6q",
        "outputId": "4d0cece4-46a6-4b1f-989d-70d80e001813"
      },
      "outputs": [
        {
          "output_type": "stream",
          "name": "stdout",
          "text": [
            "Looking in indexes: https://pypi.org/simple, https://us-python.pkg.dev/colab-wheels/public/simple/\n",
            "Collecting transformers\n",
            "  Downloading transformers-4.26.0-py3-none-any.whl (6.3 MB)\n",
            "\u001b[2K     \u001b[90m━━━━━━━━━━━━━━━━━━━━━━━━━━━━━━━━━━━━━━━━\u001b[0m \u001b[32m6.3/6.3 MB\u001b[0m \u001b[31m78.0 MB/s\u001b[0m eta \u001b[36m0:00:00\u001b[0m\n",
            "\u001b[?25hRequirement already satisfied: numpy>=1.17 in /usr/local/lib/python3.8/dist-packages (from transformers) (1.21.6)\n",
            "Requirement already satisfied: regex!=2019.12.17 in /usr/local/lib/python3.8/dist-packages (from transformers) (2022.6.2)\n",
            "Requirement already satisfied: filelock in /usr/local/lib/python3.8/dist-packages (from transformers) (3.9.0)\n",
            "Requirement already satisfied: requests in /usr/local/lib/python3.8/dist-packages (from transformers) (2.25.1)\n",
            "Collecting huggingface-hub<1.0,>=0.11.0\n",
            "  Downloading huggingface_hub-0.12.0-py3-none-any.whl (190 kB)\n",
            "\u001b[2K     \u001b[90m━━━━━━━━━━━━━━━━━━━━━━━━━━━━━━━━━━━━━━\u001b[0m \u001b[32m190.3/190.3 KB\u001b[0m \u001b[31m18.0 MB/s\u001b[0m eta \u001b[36m0:00:00\u001b[0m\n",
            "\u001b[?25hRequirement already satisfied: packaging>=20.0 in /usr/local/lib/python3.8/dist-packages (from transformers) (21.3)\n",
            "Requirement already satisfied: pyyaml>=5.1 in /usr/local/lib/python3.8/dist-packages (from transformers) (6.0)\n",
            "Collecting tokenizers!=0.11.3,<0.14,>=0.11.1\n",
            "  Downloading tokenizers-0.13.2-cp38-cp38-manylinux_2_17_x86_64.manylinux2014_x86_64.whl (7.6 MB)\n",
            "\u001b[2K     \u001b[90m━━━━━━━━━━━━━━━━━━━━━━━━━━━━━━━━━━━━━━━━\u001b[0m \u001b[32m7.6/7.6 MB\u001b[0m \u001b[31m111.0 MB/s\u001b[0m eta \u001b[36m0:00:00\u001b[0m\n",
            "\u001b[?25hRequirement already satisfied: tqdm>=4.27 in /usr/local/lib/python3.8/dist-packages (from transformers) (4.64.1)\n",
            "Requirement already satisfied: typing-extensions>=3.7.4.3 in /usr/local/lib/python3.8/dist-packages (from huggingface-hub<1.0,>=0.11.0->transformers) (4.4.0)\n",
            "Requirement already satisfied: pyparsing!=3.0.5,>=2.0.2 in /usr/local/lib/python3.8/dist-packages (from packaging>=20.0->transformers) (3.0.9)\n",
            "Requirement already satisfied: urllib3<1.27,>=1.21.1 in /usr/local/lib/python3.8/dist-packages (from requests->transformers) (1.24.3)\n",
            "Requirement already satisfied: certifi>=2017.4.17 in /usr/local/lib/python3.8/dist-packages (from requests->transformers) (2022.12.7)\n",
            "Requirement already satisfied: chardet<5,>=3.0.2 in /usr/local/lib/python3.8/dist-packages (from requests->transformers) (4.0.0)\n",
            "Requirement already satisfied: idna<3,>=2.5 in /usr/local/lib/python3.8/dist-packages (from requests->transformers) (2.10)\n",
            "Installing collected packages: tokenizers, huggingface-hub, transformers\n",
            "Successfully installed huggingface-hub-0.12.0 tokenizers-0.13.2 transformers-4.26.0\n"
          ]
        }
      ],
      "source": [
        "!pip install transformers"
      ]
    },
    {
      "cell_type": "code",
      "source": [
        "import pandas as pd\n",
        "import torch\n",
        "import numpy as np\n",
        "from transformers import BertTokenizer, BertModel\n",
        "from torch import nn\n",
        "from torch.optim import Adam\n",
        "from tqdm import tqdm"
      ],
      "metadata": {
        "id": "8qkowoM0aidE"
      },
      "execution_count": null,
      "outputs": []
    },
    {
      "cell_type": "markdown",
      "source": [
        "# Importing data\n"
      ],
      "metadata": {
        "id": "qpWfwjjYiTcv"
      }
    },
    {
      "cell_type": "code",
      "source": [
        "datapath = f'/content/drive/My Drive/IMDB-Dataset.csv/IMDB-Dataset.csv'\n",
        "df = pd.read_csv(datapath)\n",
        "df.head()"
      ],
      "metadata": {
        "colab": {
          "base_uri": "https://localhost:8080/",
          "height": 206
        },
        "id": "DEEKu5_ia5mv",
        "outputId": "d3f72f4c-cfcc-428d-dd98-543fd0618291"
      },
      "execution_count": null,
      "outputs": [
        {
          "output_type": "execute_result",
          "data": {
            "text/plain": [
              "                                              review sentiment\n",
              "0  One of the other reviewers has mentioned that ...  positive\n",
              "1  A wonderful little production. <br /><br />The...  positive\n",
              "2  I thought this was a wonderful way to spend ti...  positive\n",
              "3  Basically there's a family where a little boy ...  negative\n",
              "4  Petter Mattei's \"Love in the Time of Money\" is...  positive"
            ],
            "text/html": [
              "\n",
              "  <div id=\"df-7dbd9ec8-e83b-46d3-8905-7c3ed8831d53\">\n",
              "    <div class=\"colab-df-container\">\n",
              "      <div>\n",
              "<style scoped>\n",
              "    .dataframe tbody tr th:only-of-type {\n",
              "        vertical-align: middle;\n",
              "    }\n",
              "\n",
              "    .dataframe tbody tr th {\n",
              "        vertical-align: top;\n",
              "    }\n",
              "\n",
              "    .dataframe thead th {\n",
              "        text-align: right;\n",
              "    }\n",
              "</style>\n",
              "<table border=\"1\" class=\"dataframe\">\n",
              "  <thead>\n",
              "    <tr style=\"text-align: right;\">\n",
              "      <th></th>\n",
              "      <th>review</th>\n",
              "      <th>sentiment</th>\n",
              "    </tr>\n",
              "  </thead>\n",
              "  <tbody>\n",
              "    <tr>\n",
              "      <th>0</th>\n",
              "      <td>One of the other reviewers has mentioned that ...</td>\n",
              "      <td>positive</td>\n",
              "    </tr>\n",
              "    <tr>\n",
              "      <th>1</th>\n",
              "      <td>A wonderful little production. &lt;br /&gt;&lt;br /&gt;The...</td>\n",
              "      <td>positive</td>\n",
              "    </tr>\n",
              "    <tr>\n",
              "      <th>2</th>\n",
              "      <td>I thought this was a wonderful way to spend ti...</td>\n",
              "      <td>positive</td>\n",
              "    </tr>\n",
              "    <tr>\n",
              "      <th>3</th>\n",
              "      <td>Basically there's a family where a little boy ...</td>\n",
              "      <td>negative</td>\n",
              "    </tr>\n",
              "    <tr>\n",
              "      <th>4</th>\n",
              "      <td>Petter Mattei's \"Love in the Time of Money\" is...</td>\n",
              "      <td>positive</td>\n",
              "    </tr>\n",
              "  </tbody>\n",
              "</table>\n",
              "</div>\n",
              "      <button class=\"colab-df-convert\" onclick=\"convertToInteractive('df-7dbd9ec8-e83b-46d3-8905-7c3ed8831d53')\"\n",
              "              title=\"Convert this dataframe to an interactive table.\"\n",
              "              style=\"display:none;\">\n",
              "        \n",
              "  <svg xmlns=\"http://www.w3.org/2000/svg\" height=\"24px\"viewBox=\"0 0 24 24\"\n",
              "       width=\"24px\">\n",
              "    <path d=\"M0 0h24v24H0V0z\" fill=\"none\"/>\n",
              "    <path d=\"M18.56 5.44l.94 2.06.94-2.06 2.06-.94-2.06-.94-.94-2.06-.94 2.06-2.06.94zm-11 1L8.5 8.5l.94-2.06 2.06-.94-2.06-.94L8.5 2.5l-.94 2.06-2.06.94zm10 10l.94 2.06.94-2.06 2.06-.94-2.06-.94-.94-2.06-.94 2.06-2.06.94z\"/><path d=\"M17.41 7.96l-1.37-1.37c-.4-.4-.92-.59-1.43-.59-.52 0-1.04.2-1.43.59L10.3 9.45l-7.72 7.72c-.78.78-.78 2.05 0 2.83L4 21.41c.39.39.9.59 1.41.59.51 0 1.02-.2 1.41-.59l7.78-7.78 2.81-2.81c.8-.78.8-2.07 0-2.86zM5.41 20L4 18.59l7.72-7.72 1.47 1.35L5.41 20z\"/>\n",
              "  </svg>\n",
              "      </button>\n",
              "      \n",
              "  <style>\n",
              "    .colab-df-container {\n",
              "      display:flex;\n",
              "      flex-wrap:wrap;\n",
              "      gap: 12px;\n",
              "    }\n",
              "\n",
              "    .colab-df-convert {\n",
              "      background-color: #E8F0FE;\n",
              "      border: none;\n",
              "      border-radius: 50%;\n",
              "      cursor: pointer;\n",
              "      display: none;\n",
              "      fill: #1967D2;\n",
              "      height: 32px;\n",
              "      padding: 0 0 0 0;\n",
              "      width: 32px;\n",
              "    }\n",
              "\n",
              "    .colab-df-convert:hover {\n",
              "      background-color: #E2EBFA;\n",
              "      box-shadow: 0px 1px 2px rgba(60, 64, 67, 0.3), 0px 1px 3px 1px rgba(60, 64, 67, 0.15);\n",
              "      fill: #174EA6;\n",
              "    }\n",
              "\n",
              "    [theme=dark] .colab-df-convert {\n",
              "      background-color: #3B4455;\n",
              "      fill: #D2E3FC;\n",
              "    }\n",
              "\n",
              "    [theme=dark] .colab-df-convert:hover {\n",
              "      background-color: #434B5C;\n",
              "      box-shadow: 0px 1px 3px 1px rgba(0, 0, 0, 0.15);\n",
              "      filter: drop-shadow(0px 1px 2px rgba(0, 0, 0, 0.3));\n",
              "      fill: #FFFFFF;\n",
              "    }\n",
              "  </style>\n",
              "\n",
              "      <script>\n",
              "        const buttonEl =\n",
              "          document.querySelector('#df-7dbd9ec8-e83b-46d3-8905-7c3ed8831d53 button.colab-df-convert');\n",
              "        buttonEl.style.display =\n",
              "          google.colab.kernel.accessAllowed ? 'block' : 'none';\n",
              "\n",
              "        async function convertToInteractive(key) {\n",
              "          const element = document.querySelector('#df-7dbd9ec8-e83b-46d3-8905-7c3ed8831d53');\n",
              "          const dataTable =\n",
              "            await google.colab.kernel.invokeFunction('convertToInteractive',\n",
              "                                                     [key], {});\n",
              "          if (!dataTable) return;\n",
              "\n",
              "          const docLinkHtml = 'Like what you see? Visit the ' +\n",
              "            '<a target=\"_blank\" href=https://colab.research.google.com/notebooks/data_table.ipynb>data table notebook</a>'\n",
              "            + ' to learn more about interactive tables.';\n",
              "          element.innerHTML = '';\n",
              "          dataTable['output_type'] = 'display_data';\n",
              "          await google.colab.output.renderOutput(dataTable, element);\n",
              "          const docLink = document.createElement('div');\n",
              "          docLink.innerHTML = docLinkHtml;\n",
              "          element.appendChild(docLink);\n",
              "        }\n",
              "      </script>\n",
              "    </div>\n",
              "  </div>\n",
              "  "
            ]
          },
          "metadata": {},
          "execution_count": 3
        }
      ]
    },
    {
      "cell_type": "code",
      "source": [
        "df.groupby(['sentiment']).size().plot.bar()"
      ],
      "metadata": {
        "colab": {
          "base_uri": "https://localhost:8080/",
          "height": 330
        },
        "id": "3me0GagMg6sh",
        "outputId": "837b6ab7-7b64-47f9-8834-3a77b815c976"
      },
      "execution_count": null,
      "outputs": [
        {
          "output_type": "execute_result",
          "data": {
            "text/plain": [
              "<matplotlib.axes._subplots.AxesSubplot at 0x7fd89548a0d0>"
            ]
          },
          "metadata": {},
          "execution_count": 4
        },
        {
          "output_type": "display_data",
          "data": {
            "text/plain": [
              "<Figure size 432x288 with 1 Axes>"
            ],
            "image/png": "[encoded data removed]"
          },
          "metadata": {
            "needs_background": "light"
          }
        }
      ]
    },
    {
      "cell_type": "code",
      "source": [
        "tokenizer = BertTokenizer.from_pretrained('bert-base-cased')\n",
        "labels = {'negative':0,\n",
        "          'positive':1\n",
        "          }\n",
        "class Dataset(torch.utils.data.Dataset):\n",
        "\n",
        "    def __init__(self,x,y):\n",
        "\n",
        "        self.labels = torch.FloatTensor(y['sentiment'].values)\n",
        "        self.texts = [tokenizer(text, \n",
        "                               padding='max_length', max_length = 512, truncation=True,\n",
        "                                return_tensors=\"pt\") for text in x['review']]\n",
        "\n",
        "    def classes(self):\n",
        "        return self.labels\n",
        "\n",
        "    def __len__(self):\n",
        "        return len(self.labels)\n",
        "\n",
        "    def get_batch_labels(self, idx):\n",
        "        # Fetch a batch of labels\n",
        "        return np.array(self.labels[idx])\n",
        "\n",
        "    def get_batch_texts(self, idx):\n",
        "        # Fetch a batch of inputs\n",
        "        return self.texts[idx]\n",
        "\n",
        "    def __getitem__(self, idx):\n",
        "\n",
        "        batch_texts = self.get_batch_texts(idx)\n",
        "        batch_y = self.get_batch_labels(idx)\n",
        "\n",
        "        return batch_texts, batch_y"
      ],
      "metadata": {
        "colab": {
          "base_uri": "https://localhost:8080/",
          "height": 197,
          "referenced_widgets": [
            "81c1fece281b43b6864a3c719c45d069",
            "960fe978fa09494aa93b78325c764fe8",
            "43ffcb4e1d7d44fca8449614b71c437f",
            "8a06167df6c34ad780f773ea04f2859f",
            "ac4fd4d87aa341b49ba7f2d871e9defb",
            "0b10e9c01a10436cad14ad0b4f9eda02",
            "c8dfce0265f249fea1e5090b3125822b",
            "23020b1c7c044648a8d006de102c4ff4",
            "a3ff7d5b486e4128a46492101102ac36",
            "b1429fd102df456b916df1a098e7f758",
            "2d32c922edc04776a0b657cd63d7f5be",
            "b199d92bdbb64369af6fe00e9016b808",
            "9c8104b2e6124697b9285742da9f0d6a",
            "06a666170ae94a5f91a11b37eb859782",
            "a53d9f5719e541139bf54f4037f152d3",
            "20e680da55d34b69a7ff9fb1fa10f881",
            "c6878742e1d04a1c898634242aed6ec8",
            "0745e3a95b0d4883a973ce9742f1f85d",
            "3fef6d615f464f308fbe54a911413f12",
            "a964a8971ad74f6a95f3e404430b82c5",
            "bcc4616271034291b3cf0ac0d3b18f81",
            "5c13ca2687bc409dbb3bc1fbfcd2825e",
            "d45ff49b28af4468bd6a4f151539730c",
            "ac456dd3000b470d9e392284c193c813",
            "cb530e65245043debd3ed1ed975bb333",
            "16b97245caa34932a7a5bbae529654f1",
            "f285d5a2382a4d95a3e541403112a68c",
            "007d42b9802d4d48a943a2abc0fc9493",
            "2af3b443544c4aa993b0236b0b46739f",
            "b8dbd30c1abe47609390e220507d292f",
            "0bcad86def4e41de99085e900e1d525b",
            "b458b996282f4a58be6688243c31f031",
            "1fef09a179244cf582a57a2c4fa29e6b"
          ]
        },
        "id": "NiKOH12bhEPL",
        "outputId": "e9660094-dcd8-40f9-f686-b788b39a3c70"
      },
      "execution_count": null,
      "outputs": [
        {
          "output_type": "display_data",
          "data": {
            "text/plain": [
              "Downloading (…)solve/main/vocab.txt:   0%|          | 0.00/213k [00:00<?, ?B/s]"
            ],
            "application/vnd.jupyter.widget-view+json": {
              "version_major": 2,
              "version_minor": 0,
              "model_id": "81c1fece281b43b6864a3c719c45d069"
            }
          },
          "metadata": {}
        },
        {
          "output_type": "display_data",
          "data": {
            "text/plain": [
              "Downloading (…)okenizer_config.json:   0%|          | 0.00/29.0 [00:00<?, ?B/s]"
            ],
            "application/vnd.jupyter.widget-view+json": {
              "version_major": 2,
              "version_minor": 0,
              "model_id": "b199d92bdbb64369af6fe00e9016b808"
            }
          },
          "metadata": {}
        },
        {
          "output_type": "display_data",
          "data": {
            "text/plain": [
              "Downloading (…)lve/main/config.json:   0%|          | 0.00/570 [00:00<?, ?B/s]"
            ],
            "application/vnd.jupyter.widget-view+json": {
              "version_major": 2,
              "version_minor": 0,
              "model_id": "d45ff49b28af4468bd6a4f151539730c"
            }
          },
          "metadata": {}
        }
      ]
    },
    {
      "cell_type": "code",
      "source": [
        "df = df.replace({'positive':1,'negative':0})\n",
        "df.head()"
      ],
      "metadata": {
        "colab": {
          "base_uri": "https://localhost:8080/",
          "height": 206
        },
        "id": "ynW6C5bbmj-N",
        "outputId": "9a35afbd-4612-4e8a-f7da-d56232232643"
      },
      "execution_count": null,
      "outputs": [
        {
          "output_type": "execute_result",
          "data": {
            "text/plain": [
              "                                              review  sentiment\n",
              "0  One of the other reviewers has mentioned that ...          1\n",
              "1  A wonderful little production. <br /><br />The...          1\n",
              "2  I thought this was a wonderful way to spend ti...          1\n",
              "3  Basically there's a family where a little boy ...          0\n",
              "4  Petter Mattei's \"Love in the Time of Money\" is...          1"
            ],
            "text/html": [
              "\n",
              "  <div id=\"df-664d2821-0d83-4dad-bfe3-b48efc191895\">\n",
              "    <div class=\"colab-df-container\">\n",
              "      <div>\n",
              "<style scoped>\n",
              "    .dataframe tbody tr th:only-of-type {\n",
              "        vertical-align: middle;\n",
              "    }\n",
              "\n",
              "    .dataframe tbody tr th {\n",
              "        vertical-align: top;\n",
              "    }\n",
              "\n",
              "    .dataframe thead th {\n",
              "        text-align: right;\n",
              "    }\n",
              "</style>\n",
              "<table border=\"1\" class=\"dataframe\">\n",
              "  <thead>\n",
              "    <tr style=\"text-align: right;\">\n",
              "      <th></th>\n",
              "      <th>review</th>\n",
              "      <th>sentiment</th>\n",
              "    </tr>\n",
              "  </thead>\n",
              "  <tbody>\n",
              "    <tr>\n",
              "      <th>0</th>\n",
              "      <td>One of the other reviewers has mentioned that ...</td>\n",
              "      <td>1</td>\n",
              "    </tr>\n",
              "    <tr>\n",
              "      <th>1</th>\n",
              "      <td>A wonderful little production. &lt;br /&gt;&lt;br /&gt;The...</td>\n",
              "      <td>1</td>\n",
              "    </tr>\n",
              "    <tr>\n",
              "      <th>2</th>\n",
              "      <td>I thought this was a wonderful way to spend ti...</td>\n",
              "      <td>1</td>\n",
              "    </tr>\n",
              "    <tr>\n",
              "      <th>3</th>\n",
              "      <td>Basically there's a family where a little boy ...</td>\n",
              "      <td>0</td>\n",
              "    </tr>\n",
              "    <tr>\n",
              "      <th>4</th>\n",
              "      <td>Petter Mattei's \"Love in the Time of Money\" is...</td>\n",
              "      <td>1</td>\n",
              "    </tr>\n",
              "  </tbody>\n",
              "</table>\n",
              "</div>\n",
              "      <button class=\"colab-df-convert\" onclick=\"convertToInteractive('df-664d2821-0d83-4dad-bfe3-b48efc191895')\"\n",
              "              title=\"Convert this dataframe to an interactive table.\"\n",
              "              style=\"display:none;\">\n",
              "        \n",
              "  <svg xmlns=\"http://www.w3.org/2000/svg\" height=\"24px\"viewBox=\"0 0 24 24\"\n",
              "       width=\"24px\">\n",
              "    <path d=\"M0 0h24v24H0V0z\" fill=\"none\"/>\n",
              "    <path d=\"M18.56 5.44l.94 2.06.94-2.06 2.06-.94-2.06-.94-.94-2.06-.94 2.06-2.06.94zm-11 1L8.5 8.5l.94-2.06 2.06-.94-2.06-.94L8.5 2.5l-.94 2.06-2.06.94zm10 10l.94 2.06.94-2.06 2.06-.94-2.06-.94-.94-2.06-.94 2.06-2.06.94z\"/><path d=\"M17.41 7.96l-1.37-1.37c-.4-.4-.92-.59-1.43-.59-.52 0-1.04.2-1.43.59L10.3 9.45l-7.72 7.72c-.78.78-.78 2.05 0 2.83L4 21.41c.39.39.9.59 1.41.59.51 0 1.02-.2 1.41-.59l7.78-7.78 2.81-2.81c.8-.78.8-2.07 0-2.86zM5.41 20L4 18.59l7.72-7.72 1.47 1.35L5.41 20z\"/>\n",
              "  </svg>\n",
              "      </button>\n",
              "      \n",
              "  <style>\n",
              "    .colab-df-container {\n",
              "      display:flex;\n",
              "      flex-wrap:wrap;\n",
              "      gap: 12px;\n",
              "    }\n",
              "\n",
              "    .colab-df-convert {\n",
              "      background-color: #E8F0FE;\n",
              "      border: none;\n",
              "      border-radius: 50%;\n",
              "      cursor: pointer;\n",
              "      display: none;\n",
              "      fill: #1967D2;\n",
              "      height: 32px;\n",
              "      padding: 0 0 0 0;\n",
              "      width: 32px;\n",
              "    }\n",
              "\n",
              "    .colab-df-convert:hover {\n",
              "      background-color: #E2EBFA;\n",
              "      box-shadow: 0px 1px 2px rgba(60, 64, 67, 0.3), 0px 1px 3px 1px rgba(60, 64, 67, 0.15);\n",
              "      fill: #174EA6;\n",
              "    }\n",
              "\n",
              "    [theme=dark] .colab-df-convert {\n",
              "      background-color: #3B4455;\n",
              "      fill: #D2E3FC;\n",
              "    }\n",
              "\n",
              "    [theme=dark] .colab-df-convert:hover {\n",
              "      background-color: #434B5C;\n",
              "      box-shadow: 0px 1px 3px 1px rgba(0, 0, 0, 0.15);\n",
              "      filter: drop-shadow(0px 1px 2px rgba(0, 0, 0, 0.3));\n",
              "      fill: #FFFFFF;\n",
              "    }\n",
              "  </style>\n",
              "\n",
              "      <script>\n",
              "        const buttonEl =\n",
              "          document.querySelector('#df-664d2821-0d83-4dad-bfe3-b48efc191895 button.colab-df-convert');\n",
              "        buttonEl.style.display =\n",
              "          google.colab.kernel.accessAllowed ? 'block' : 'none';\n",
              "\n",
              "        async function convertToInteractive(key) {\n",
              "          const element = document.querySelector('#df-664d2821-0d83-4dad-bfe3-b48efc191895');\n",
              "          const dataTable =\n",
              "            await google.colab.kernel.invokeFunction('convertToInteractive',\n",
              "                                                     [key], {});\n",
              "          if (!dataTable) return;\n",
              "\n",
              "          const docLinkHtml = 'Like what you see? Visit the ' +\n",
              "            '<a target=\"_blank\" href=https://colab.research.google.com/notebooks/data_table.ipynb>data table notebook</a>'\n",
              "            + ' to learn more about interactive tables.';\n",
              "          element.innerHTML = '';\n",
              "          dataTable['output_type'] = 'display_data';\n",
              "          await google.colab.output.renderOutput(dataTable, element);\n",
              "          const docLink = document.createElement('div');\n",
              "          docLink.innerHTML = docLinkHtml;\n",
              "          element.appendChild(docLink);\n",
              "        }\n",
              "      </script>\n",
              "    </div>\n",
              "  </div>\n",
              "  "
            ]
          },
          "metadata": {},
          "execution_count": 6
        }
      ]
    },
    {
      "cell_type": "markdown",
      "source": [
        "# Data Preprocessing\n"
      ],
      "metadata": {
        "id": "HPRlHKqLioW-"
      }
    },
    {
      "cell_type": "code",
      "source": [
        "import nltk\n",
        "from nltk.corpus import stopwords\n",
        "from nltk.stem import WordNetLemmatizer\n",
        "from nltk.corpus import wordnet\n",
        "import re\n",
        "import string\n",
        "from typing_extensions import final\n",
        "nltk.download('omw-1.4')\n",
        "nltk.download('stopwords')\n",
        "nltk.download('wordnet')\n",
        "stop = stopwords.words('english')\n",
        "nltk.download('averaged_perceptron_tagger')\n",
        "\n",
        "\n",
        "htmlRGX = re.compile('<.*?>') \n",
        "lemmatizer = WordNetLemmatizer()\n",
        "stop_words = stopwords.words('english')\n",
        "\n",
        "def data_preprocessing(text):\n",
        "  sentence = re.sub(htmlRGX, ' ', text)\n",
        "  sentence = \"\".join([char for char in sentence if char not in string.punctuation])\n",
        "  sentence = sentence.lower()\n",
        "  sentence = sentence.split(' ')\n",
        "  sentence = [word for word in sentence if word not in stop_words]\n",
        "  sentence = [lemmatizer.lemmatize(word=word,pos='v') for word in sentence]\n",
        "  sentence = ' '.join(sentence)\n",
        "  return sentence\n",
        "\n",
        "reviews = df['review']\n",
        "Duplicates = df[reviews.isin(reviews[reviews.duplicated()])].sort_values(\"review\")\n",
        "#df.drop_duplicates(inplace = True)\n",
        "df.count()\n",
        "\n",
        "preprocessed_data= df.copy()\n",
        "preprocessed_data['review'] = preprocessed_data['review'].apply(data_preprocessing)\n"
      ],
      "metadata": {
        "colab": {
          "base_uri": "https://localhost:8080/"
        },
        "id": "NMyt-zv5R-r_",
        "outputId": "b144473b-7895-45f7-f9c2-e94c2fd767b3"
      },
      "execution_count": null,
      "outputs": [
        {
          "output_type": "stream",
          "name": "stderr",
          "text": [
            "[nltk_data] Downloading package omw-1.4 to /root/nltk_data...\n",
            "[nltk_data] Downloading package stopwords to /root/nltk_data...\n",
            "[nltk_data]   Unzipping corpora/stopwords.zip.\n",
            "[nltk_data] Downloading package wordnet to /root/nltk_data...\n",
            "[nltk_data] Downloading package averaged_perceptron_tagger to\n",
            "[nltk_data]     /root/nltk_data...\n",
            "[nltk_data]   Unzipping taggers/averaged_perceptron_tagger.zip.\n"
          ]
        }
      ]
    },
    {
      "cell_type": "code",
      "source": [
        "preprocessed_data.head()"
      ],
      "metadata": {
        "colab": {
          "base_uri": "https://localhost:8080/",
          "height": 206
        },
        "id": "l6jIPViLmGP1",
        "outputId": "257622ad-a566-4c8e-cf68-1af4db6e96a8"
      },
      "execution_count": null,
      "outputs": [
        {
          "output_type": "execute_result",
          "data": {
            "text/plain": [
              "                                              review  sentiment\n",
              "0  one reviewers mention watch 1 oz episode youll...          1\n",
              "1  wonderful little production   film technique u...          1\n",
              "2  think wonderful way spend time hot summer week...          1\n",
              "3  basically theres family little boy jake think ...          0\n",
              "4  petter matteis love time money visually stun f...          1"
            ],
            "text/html": [
              "\n",
              "  <div id=\"df-a1bdf10f-864e-489f-8bf4-39b617152275\">\n",
              "    <div class=\"colab-df-container\">\n",
              "      <div>\n",
              "<style scoped>\n",
              "    .dataframe tbody tr th:only-of-type {\n",
              "        vertical-align: middle;\n",
              "    }\n",
              "\n",
              "    .dataframe tbody tr th {\n",
              "        vertical-align: top;\n",
              "    }\n",
              "\n",
              "    .dataframe thead th {\n",
              "        text-align: right;\n",
              "    }\n",
              "</style>\n",
              "<table border=\"1\" class=\"dataframe\">\n",
              "  <thead>\n",
              "    <tr style=\"text-align: right;\">\n",
              "      <th></th>\n",
              "      <th>review</th>\n",
              "      <th>sentiment</th>\n",
              "    </tr>\n",
              "  </thead>\n",
              "  <tbody>\n",
              "    <tr>\n",
              "      <th>0</th>\n",
              "      <td>one reviewers mention watch 1 oz episode youll...</td>\n",
              "      <td>1</td>\n",
              "    </tr>\n",
              "    <tr>\n",
              "      <th>1</th>\n",
              "      <td>wonderful little production   film technique u...</td>\n",
              "      <td>1</td>\n",
              "    </tr>\n",
              "    <tr>\n",
              "      <th>2</th>\n",
              "      <td>think wonderful way spend time hot summer week...</td>\n",
              "      <td>1</td>\n",
              "    </tr>\n",
              "    <tr>\n",
              "      <th>3</th>\n",
              "      <td>basically theres family little boy jake think ...</td>\n",
              "      <td>0</td>\n",
              "    </tr>\n",
              "    <tr>\n",
              "      <th>4</th>\n",
              "      <td>petter matteis love time money visually stun f...</td>\n",
              "      <td>1</td>\n",
              "    </tr>\n",
              "  </tbody>\n",
              "</table>\n",
              "</div>\n",
              "      <button class=\"colab-df-convert\" onclick=\"convertToInteractive('df-a1bdf10f-864e-489f-8bf4-39b617152275')\"\n",
              "              title=\"Convert this dataframe to an interactive table.\"\n",
              "              style=\"display:none;\">\n",
              "        \n",
              "  <svg xmlns=\"http://www.w3.org/2000/svg\" height=\"24px\"viewBox=\"0 0 24 24\"\n",
              "       width=\"24px\">\n",
              "    <path d=\"M0 0h24v24H0V0z\" fill=\"none\"/>\n",
              "    <path d=\"M18.56 5.44l.94 2.06.94-2.06 2.06-.94-2.06-.94-.94-2.06-.94 2.06-2.06.94zm-11 1L8.5 8.5l.94-2.06 2.06-.94-2.06-.94L8.5 2.5l-.94 2.06-2.06.94zm10 10l.94 2.06.94-2.06 2.06-.94-2.06-.94-.94-2.06-.94 2.06-2.06.94z\"/><path d=\"M17.41 7.96l-1.37-1.37c-.4-.4-.92-.59-1.43-.59-.52 0-1.04.2-1.43.59L10.3 9.45l-7.72 7.72c-.78.78-.78 2.05 0 2.83L4 21.41c.39.39.9.59 1.41.59.51 0 1.02-.2 1.41-.59l7.78-7.78 2.81-2.81c.8-.78.8-2.07 0-2.86zM5.41 20L4 18.59l7.72-7.72 1.47 1.35L5.41 20z\"/>\n",
              "  </svg>\n",
              "      </button>\n",
              "      \n",
              "  <style>\n",
              "    .colab-df-container {\n",
              "      display:flex;\n",
              "      flex-wrap:wrap;\n",
              "      gap: 12px;\n",
              "    }\n",
              "\n",
              "    .colab-df-convert {\n",
              "      background-color: #E8F0FE;\n",
              "      border: none;\n",
              "      border-radius: 50%;\n",
              "      cursor: pointer;\n",
              "      display: none;\n",
              "      fill: #1967D2;\n",
              "      height: 32px;\n",
              "      padding: 0 0 0 0;\n",
              "      width: 32px;\n",
              "    }\n",
              "\n",
              "    .colab-df-convert:hover {\n",
              "      background-color: #E2EBFA;\n",
              "      box-shadow: 0px 1px 2px rgba(60, 64, 67, 0.3), 0px 1px 3px 1px rgba(60, 64, 67, 0.15);\n",
              "      fill: #174EA6;\n",
              "    }\n",
              "\n",
              "    [theme=dark] .colab-df-convert {\n",
              "      background-color: #3B4455;\n",
              "      fill: #D2E3FC;\n",
              "    }\n",
              "\n",
              "    [theme=dark] .colab-df-convert:hover {\n",
              "      background-color: #434B5C;\n",
              "      box-shadow: 0px 1px 3px 1px rgba(0, 0, 0, 0.15);\n",
              "      filter: drop-shadow(0px 1px 2px rgba(0, 0, 0, 0.3));\n",
              "      fill: #FFFFFF;\n",
              "    }\n",
              "  </style>\n",
              "\n",
              "      <script>\n",
              "        const buttonEl =\n",
              "          document.querySelector('#df-a1bdf10f-864e-489f-8bf4-39b617152275 button.colab-df-convert');\n",
              "        buttonEl.style.display =\n",
              "          google.colab.kernel.accessAllowed ? 'block' : 'none';\n",
              "\n",
              "        async function convertToInteractive(key) {\n",
              "          const element = document.querySelector('#df-a1bdf10f-864e-489f-8bf4-39b617152275');\n",
              "          const dataTable =\n",
              "            await google.colab.kernel.invokeFunction('convertToInteractive',\n",
              "                                                     [key], {});\n",
              "          if (!dataTable) return;\n",
              "\n",
              "          const docLinkHtml = 'Like what you see? Visit the ' +\n",
              "            '<a target=\"_blank\" href=https://colab.research.google.com/notebooks/data_table.ipynb>data table notebook</a>'\n",
              "            + ' to learn more about interactive tables.';\n",
              "          element.innerHTML = '';\n",
              "          dataTable['output_type'] = 'display_data';\n",
              "          await google.colab.output.renderOutput(dataTable, element);\n",
              "          const docLink = document.createElement('div');\n",
              "          docLink.innerHTML = docLinkHtml;\n",
              "          element.appendChild(docLink);\n",
              "        }\n",
              "      </script>\n",
              "    </div>\n",
              "  </div>\n",
              "  "
            ]
          },
          "metadata": {},
          "execution_count": 8
        }
      ]
    },
    {
      "cell_type": "code",
      "source": [
        "unprocessed_data=df.copy()\n",
        "unprocessed_data.head()"
      ],
      "metadata": {
        "colab": {
          "base_uri": "https://localhost:8080/",
          "height": 206
        },
        "id": "-bJkqGKdn4iU",
        "outputId": "dc0c8d73-8789-4f83-bec4-83be1ba1e0bc"
      },
      "execution_count": null,
      "outputs": [
        {
          "output_type": "execute_result",
          "data": {
            "text/plain": [
              "                                              review  sentiment\n",
              "0  One of the other reviewers has mentioned that ...          1\n",
              "1  A wonderful little production. <br /><br />The...          1\n",
              "2  I thought this was a wonderful way to spend ti...          1\n",
              "3  Basically there's a family where a little boy ...          0\n",
              "4  Petter Mattei's \"Love in the Time of Money\" is...          1"
            ],
            "text/html": [
              "\n",
              "  <div id=\"df-1617584d-2e56-4f86-9f33-c912bc2f1be1\">\n",
              "    <div class=\"colab-df-container\">\n",
              "      <div>\n",
              "<style scoped>\n",
              "    .dataframe tbody tr th:only-of-type {\n",
              "        vertical-align: middle;\n",
              "    }\n",
              "\n",
              "    .dataframe tbody tr th {\n",
              "        vertical-align: top;\n",
              "    }\n",
              "\n",
              "    .dataframe thead th {\n",
              "        text-align: right;\n",
              "    }\n",
              "</style>\n",
              "<table border=\"1\" class=\"dataframe\">\n",
              "  <thead>\n",
              "    <tr style=\"text-align: right;\">\n",
              "      <th></th>\n",
              "      <th>review</th>\n",
              "      <th>sentiment</th>\n",
              "    </tr>\n",
              "  </thead>\n",
              "  <tbody>\n",
              "    <tr>\n",
              "      <th>0</th>\n",
              "      <td>One of the other reviewers has mentioned that ...</td>\n",
              "      <td>1</td>\n",
              "    </tr>\n",
              "    <tr>\n",
              "      <th>1</th>\n",
              "      <td>A wonderful little production. &lt;br /&gt;&lt;br /&gt;The...</td>\n",
              "      <td>1</td>\n",
              "    </tr>\n",
              "    <tr>\n",
              "      <th>2</th>\n",
              "      <td>I thought this was a wonderful way to spend ti...</td>\n",
              "      <td>1</td>\n",
              "    </tr>\n",
              "    <tr>\n",
              "      <th>3</th>\n",
              "      <td>Basically there's a family where a little boy ...</td>\n",
              "      <td>0</td>\n",
              "    </tr>\n",
              "    <tr>\n",
              "      <th>4</th>\n",
              "      <td>Petter Mattei's \"Love in the Time of Money\" is...</td>\n",
              "      <td>1</td>\n",
              "    </tr>\n",
              "  </tbody>\n",
              "</table>\n",
              "</div>\n",
              "      <button class=\"colab-df-convert\" onclick=\"convertToInteractive('df-1617584d-2e56-4f86-9f33-c912bc2f1be1')\"\n",
              "              title=\"Convert this dataframe to an interactive table.\"\n",
              "              style=\"display:none;\">\n",
              "        \n",
              "  <svg xmlns=\"http://www.w3.org/2000/svg\" height=\"24px\"viewBox=\"0 0 24 24\"\n",
              "       width=\"24px\">\n",
              "    <path d=\"M0 0h24v24H0V0z\" fill=\"none\"/>\n",
              "    <path d=\"M18.56 5.44l.94 2.06.94-2.06 2.06-.94-2.06-.94-.94-2.06-.94 2.06-2.06.94zm-11 1L8.5 8.5l.94-2.06 2.06-.94-2.06-.94L8.5 2.5l-.94 2.06-2.06.94zm10 10l.94 2.06.94-2.06 2.06-.94-2.06-.94-.94-2.06-.94 2.06-2.06.94z\"/><path d=\"M17.41 7.96l-1.37-1.37c-.4-.4-.92-.59-1.43-.59-.52 0-1.04.2-1.43.59L10.3 9.45l-7.72 7.72c-.78.78-.78 2.05 0 2.83L4 21.41c.39.39.9.59 1.41.59.51 0 1.02-.2 1.41-.59l7.78-7.78 2.81-2.81c.8-.78.8-2.07 0-2.86zM5.41 20L4 18.59l7.72-7.72 1.47 1.35L5.41 20z\"/>\n",
              "  </svg>\n",
              "      </button>\n",
              "      \n",
              "  <style>\n",
              "    .colab-df-container {\n",
              "      display:flex;\n",
              "      flex-wrap:wrap;\n",
              "      gap: 12px;\n",
              "    }\n",
              "\n",
              "    .colab-df-convert {\n",
              "      background-color: #E8F0FE;\n",
              "      border: none;\n",
              "      border-radius: 50%;\n",
              "      cursor: pointer;\n",
              "      display: none;\n",
              "      fill: #1967D2;\n",
              "      height: 32px;\n",
              "      padding: 0 0 0 0;\n",
              "      width: 32px;\n",
              "    }\n",
              "\n",
              "    .colab-df-convert:hover {\n",
              "      background-color: #E2EBFA;\n",
              "      box-shadow: 0px 1px 2px rgba(60, 64, 67, 0.3), 0px 1px 3px 1px rgba(60, 64, 67, 0.15);\n",
              "      fill: #174EA6;\n",
              "    }\n",
              "\n",
              "    [theme=dark] .colab-df-convert {\n",
              "      background-color: #3B4455;\n",
              "      fill: #D2E3FC;\n",
              "    }\n",
              "\n",
              "    [theme=dark] .colab-df-convert:hover {\n",
              "      background-color: #434B5C;\n",
              "      box-shadow: 0px 1px 3px 1px rgba(0, 0, 0, 0.15);\n",
              "      filter: drop-shadow(0px 1px 2px rgba(0, 0, 0, 0.3));\n",
              "      fill: #FFFFFF;\n",
              "    }\n",
              "  </style>\n",
              "\n",
              "      <script>\n",
              "        const buttonEl =\n",
              "          document.querySelector('#df-1617584d-2e56-4f86-9f33-c912bc2f1be1 button.colab-df-convert');\n",
              "        buttonEl.style.display =\n",
              "          google.colab.kernel.accessAllowed ? 'block' : 'none';\n",
              "\n",
              "        async function convertToInteractive(key) {\n",
              "          const element = document.querySelector('#df-1617584d-2e56-4f86-9f33-c912bc2f1be1');\n",
              "          const dataTable =\n",
              "            await google.colab.kernel.invokeFunction('convertToInteractive',\n",
              "                                                     [key], {});\n",
              "          if (!dataTable) return;\n",
              "\n",
              "          const docLinkHtml = 'Like what you see? Visit the ' +\n",
              "            '<a target=\"_blank\" href=https://colab.research.google.com/notebooks/data_table.ipynb>data table notebook</a>'\n",
              "            + ' to learn more about interactive tables.';\n",
              "          element.innerHTML = '';\n",
              "          dataTable['output_type'] = 'display_data';\n",
              "          await google.colab.output.renderOutput(dataTable, element);\n",
              "          const docLink = document.createElement('div');\n",
              "          docLink.innerHTML = docLinkHtml;\n",
              "          element.appendChild(docLink);\n",
              "        }\n",
              "      </script>\n",
              "    </div>\n",
              "  </div>\n",
              "  "
            ]
          },
          "metadata": {},
          "execution_count": 9
        }
      ]
    },
    {
      "cell_type": "markdown",
      "source": [
        "# Defining the model\n"
      ],
      "metadata": {
        "id": "yJvbf97Oix_p"
      }
    },
    {
      "cell_type": "code",
      "source": [
        "class BertClassifier(nn.Module):\n",
        "\n",
        "    def __init__(self, dropout=0.5):\n",
        "\n",
        "        super(BertClassifier, self).__init__()\n",
        "\n",
        "        self.bert = BertModel.from_pretrained('bert-base-cased')\n",
        "        self.dropout = nn.Dropout(dropout)\n",
        "        self.linear1 = nn.Linear(768,512)\n",
        "        self.relu1=nn.ReLU()\n",
        "        self.linear2 = nn.Linear(512,256)\n",
        "        self.linear3 = nn.Linear(256,128)\n",
        "        self.linear4 = nn.Linear(128,64)\n",
        "        self.linear5 = nn.Linear(64,1)\n",
        "        self.sigmoid_final = nn.Sigmoid()\n",
        "\n",
        "    def forward(self, input_id, mask):\n",
        "\n",
        "        _, pooled_output = self.bert(input_ids= input_id, attention_mask=mask,return_dict=False)\n",
        "        dropout_output = self.dropout(pooled_output)\n",
        "        out= self.linear1(dropout_output)\n",
        "        out= self.relu1(out)\n",
        "        out= self.linear2(out)\n",
        "        out= self.relu1(out)\n",
        "        out= self.linear3(out)\n",
        "        out= self.relu1(out)\n",
        "        out= self.linear4(out)\n",
        "        out= self.relu1(out)\n",
        "        out= self.linear5(out)\n",
        "        out= self.relu1(out)\n",
        "        out= self.sigmoid_final(out)\n",
        "        return out"
      ],
      "metadata": {
        "id": "Xuv6PHADhv_c"
      },
      "execution_count": null,
      "outputs": []
    },
    {
      "cell_type": "markdown",
      "source": [
        "# Splitting the data\n"
      ],
      "metadata": {
        "id": "HjKpNFOoonOv"
      }
    },
    {
      "cell_type": "markdown",
      "source": [
        "**Splitting the unprocessed data:**"
      ],
      "metadata": {
        "id": "18I2Nr_9ousK"
      }
    },
    {
      "cell_type": "code",
      "source": [
        "from sklearn.model_selection import train_test_split\n",
        "x, y = unprocessed_data.iloc[:, :-1], unprocessed_data.iloc[:, [-1]] \n",
        "xup_train, xup_remaining, yup_train, yup_remaining = train_test_split(x, y, train_size=0.7, test_size=0.3, stratify=y)\n",
        "xup_validate, xup_test, yup_validate, yup_test = train_test_split(xup_remaining, yup_remaining, train_size=1/3, test_size=2/3,stratify=yup_remaining)\n",
        "trainup_df, validationup_df = Dataset(xup_train,yup_train), Dataset(xup_validate,yup_validate)\n",
        "trainup_dataloader = torch.utils.data.DataLoader(trainup_df, batch_size=16, shuffle=True)\n",
        "validationup_dataloader = torch.utils.data.DataLoader(validationup_df, batch_size=16)"
      ],
      "metadata": {
        "id": "BrFKi1QlZtlx"
      },
      "execution_count": null,
      "outputs": []
    },
    {
      "cell_type": "markdown",
      "source": [
        "**Splitting the preprocessed data:**"
      ],
      "metadata": {
        "id": "8_2DmDNeu6TU"
      }
    },
    {
      "cell_type": "code",
      "source": [
        "x, y = preprocessed_data.iloc[:, :-1], preprocessed_data.iloc[:, [-1]] \n",
        "xp_train, xp_remaining, yp_train, yp_remaining = train_test_split(x, y, train_size=0.7, test_size=0.3, stratify=y)\n",
        "xp_validate, xp_test, yp_validate, yp_test = train_test_split(xp_remaining, yp_remaining, train_size=1/3, test_size=2/3,stratify=yp_remaining)\n",
        "trainp_df, validationp_df = Dataset(xp_train,yp_train), Dataset(xp_validate,yp_validate)\n",
        "trainp_dataloader = torch.utils.data.DataLoader(trainp_df, batch_size=16, shuffle=True)\n",
        "validationp_dataloader = torch.utils.data.DataLoader(validationp_df, batch_size=16)"
      ],
      "metadata": {
        "id": "15XeRD-BvBzQ"
      },
      "execution_count": null,
      "outputs": []
    },
    {
      "cell_type": "markdown",
      "source": [
        "## Training the preprocessed data"
      ],
      "metadata": {
        "id": "4_Uf8kN5wchS"
      }
    },
    {
      "cell_type": "markdown",
      "source": [
        "function train for the preprocessed data:"
      ],
      "metadata": {
        "id": "aWATU_hXJhst"
      }
    },
    {
      "cell_type": "code",
      "source": [
        "def train(model, train_dataloader, val_dataloader, learning_rate, epochs,start):\n",
        "    global train_accuracy,validation_accuarcy,train_loss,validation_loss\n",
        "\n",
        "    use_cuda = torch.cuda.is_available() \n",
        "    device = torch.device(\"cuda\" if use_cuda else \"cpu\") \n",
        "\n",
        "    criterion = nn.BCELoss() \n",
        "    optimizer = Adam(model.parameters(), lr= learning_rate) \n",
        "\n",
        "\n",
        "    if use_cuda:\n",
        "            model = model.cuda()\n",
        "            criterion = criterion.cuda()\n",
        "\n",
        "    for epoch_num in range(epochs):\n",
        "\n",
        "            total_acc_train = 0\n",
        "            total_loss_train = 0\n",
        "\n",
        "            for train_input, train_label in tqdm(train_dataloader): \n",
        "\n",
        "                train_label = train_label.to(device) \n",
        "                mask = train_input['attention_mask'].to(device) \n",
        "                input_id = train_input['input_ids'].squeeze(1).to(device) \n",
        "\n",
        "                output = model(input_id, mask) \n",
        "                batch_loss = criterion(output, train_label.unsqueeze(1))\n",
        "                total_loss_train += batch_loss.item()\n",
        "                output      = (output >0.5).float()\n",
        "                train_label = train_label.unsqueeze(1)\n",
        "                \n",
        "                acc = (output == train_label).sum().item() \n",
        "                total_acc_train += acc\n",
        "\n",
        "                model.zero_grad()\n",
        "                batch_loss.backward() \n",
        "                optimizer.step()\n",
        "            \n",
        "            total_acc_val = 0\n",
        "            total_loss_val = 0\n",
        "\n",
        "            with torch.no_grad(): \n",
        "\n",
        "                for val_input, val_label in val_dataloader:\n",
        "\n",
        "                    val_label = val_label.to(device)\n",
        "                    mask = val_input['attention_mask'].to(device)\n",
        "                    input_id = val_input['input_ids'].squeeze(1).to(device)\n",
        "\n",
        "                    output = model(input_id, mask)\n",
        "                    \n",
        "                    batch_loss = criterion(output, val_label.unsqueeze(1))\n",
        "                    total_loss_val += batch_loss.item()\n",
        "\n",
        "                    output      = (output >0.5).float()\n",
        "                    val_label = val_label.unsqueeze(1)\n",
        "                    \n",
        "                    acc = (output == val_label).sum().item()\n",
        "                    total_acc_val += acc\n",
        "            \n",
        "            torch.save(model.state_dict(), f'/content/drive/MyDrive/Review/Models/unprocessed_{learning_rate}/epoch_{epoch_num+1+start}/model.pt')\n",
        "            print(\n",
        "                f'Epochs: {epoch_num + 1+start} | Train Loss: {16*(total_loss_train / len(train_dataloader.dataset)): .3f} \\\n",
        "                | Train Accuracy: {total_acc_train / len(train_dataloader.dataset): .3f} \\\n",
        "                | Validation Loss: {16*(total_loss_val / len(val_dataloader.dataset)): .3f} \\\n",
        "                | Validation Accuracy: {total_acc_val / len(val_dataloader.dataset): .3f}')\n",
        "            \n",
        "            train_accuracy.append( total_acc_train/len(train_dataloader.dataset))\n",
        "            validation_accuarcy.append( total_acc_val/len(val_dataloader.dataset) )\n",
        "            train_loss.append(16*(total_loss_train/len(train_dataloader.dataset)))\n",
        "            validation_loss.append(16*(total_loss_val/len(val_dataloader.dataset)))\n",
        "\n",
        "            np.save(f'/content/drive/MyDrive/Review/Models/unprocessed_{learning_rate}/epoch_{epoch_num+1+start}/trainLoss.npy', train_loss)\n",
        "            np.save(f'/content/drive/MyDrive/Review/Models/unprocessed_{learning_rate}/epoch_{epoch_num+1+start}/trainAcc.npy', train_accuracy)\n",
        "            np.save(f'/content/drive/MyDrive/Review/Models/unprocessed_{learning_rate}/epoch_{epoch_num+1+start}/valLoss.npy', validation_loss)\n",
        "            np.save(f'/content/drive/MyDrive/Review/Models/unprocessed_{learning_rate}/epoch_{epoch_num+1+start}/valAcc.npy', validation_accuarcy)\n",
        "\n",
        "\n",
        "\n",
        "\n",
        "\n"
      ],
      "metadata": {
        "id": "MfyTbzYtFUuM"
      },
      "execution_count": null,
      "outputs": []
    },
    {
      "cell_type": "code",
      "source": [
        "import pickle \n",
        "import gc\n",
        "import matplotlib.pyplot as plt\n",
        "from sklearn.metrics import accuracy_score\n",
        "from sklearn.model_selection import KFold\n",
        "import os\n",
        "\n",
        "epochs=1\n",
        "Lrs=[0.5e-3, 1e-3, 0.5e-4, 1e-4,0.5e-5, 1e-5,0.5e-6, 1e-6] #used in tuning\n",
        "\n",
        "train_accuracy = []\n",
        "validation_accuarcy = []\n",
        "train_loss = []\n",
        "validation_loss = []\n",
        "train_accuracy_compare = []\n",
        "validation_accuarcy_compare = []\n",
        "train_loss_compare = []\n",
        "val_loss_compare = []\n",
        "\n",
        "#for LR in Lrs : \n",
        "#    for _ in range(0,100):\n",
        "#        gc.collect() # delete unwanted objects\n",
        "#        torch.cuda.empty_cache() # release unoccupied cached memory\n",
        "#    try:\n",
        "#      os.makedirs(f'/content/drive/MyDrive/Review/Models/preprocessed_{LR}')\n",
        "#    except:\n",
        "#      pass"
      ],
      "metadata": {
        "id": "wTLLR_49wb1r"
      },
      "execution_count": null,
      "outputs": []
    },
    {
      "cell_type": "code",
      "source": [
        "Pmodel = BertClassifier()\n",
        "LR= 1e-06\n",
        "\n",
        "epochs=2\n",
        "Pmodel.load_state_dict(torch.load(f'/content/drive/MyDrive/Review/Models/preprocessed_{LR}/epoch_3/model.pt'))\n",
        "\n",
        "train(Pmodel,trainp_dataloader, validationp_dataloader, LR , epochs,3)\n",
        "\n",
        "#PATH = f'/content/drive/MyDrive/Review/Models/preprocessed_{LR}/Pmodel.pth'\n",
        "#torch.save(Pmodel, PATH)\n",
        "train_accuracy_compare.append(train_accuracy[-1])\n",
        "validation_accuarcy_compare.append(validation_accuarcy[-1])\n",
        "\n",
        "train_loss_compare.append(train_loss[-1])\n",
        "val_loss_compare.append(validation_loss[-1])\n",
        "\n",
        "\n",
        "with open(f'/content/drive/MyDrive/Review/Models/preprocessed_{LR}/train_accuracy_{LR}','wb+') as f: \n",
        "          pickle.dump( np.array(train_accuracy), f)\n",
        "\n",
        "with open(f'/content/drive/MyDrive/Review/Models/preprocessed_{LR}/validation_accuarcy_{LR}','wb+') as f: \n",
        "          pickle.dump( np.array(validation_accuarcy), f)\n",
        "\n",
        "with open(f'/content/drive/MyDrive/Review/Models/preprocessed_{LR}/train_loss_{LR}','wb+') as f: \n",
        "          pickle.dump( np.array(train_loss), f)\n",
        "\n",
        "with open(f'/content/drive/MyDrive/Review/Models/preprocessed_{LR}/validation_loss_{LR}','wb+') as f: \n",
        "          pickle.dump( np.array(validation_loss), f)\n",
        "\n",
        "epochs  =  [i for i in range(0,len(validation_loss))]\n",
        "fig , (ax1, ax2) = plt.subplots(1, 2)\n",
        "fig.suptitle(f'PModel plot')\n",
        "ax1.set_ylim([0, 1])\n",
        "ax1.set_xlim([0, 1])\n",
        "ax1.plot(epochs, validation_loss,'g',epochs,train_loss,'b')\n",
        "ax2.set_ylim([0, 1])\n",
        "ax1.set_xlim([0, 1])\n",
        "ax2.plot(epochs,validation_accuarcy,'g',epochs,train_accuracy,'b')\n",
        "plt.savefig(f'/content/drive/My Drive/Review/Models/preprocessed_{LR}/Pmodel_graph_.png')  \n",
        "\n"
      ],
      "metadata": {
        "colab": {
          "base_uri": "https://localhost:8080/",
          "height": 480
        },
        "id": "f-Hb9aCP41xi",
        "outputId": "69416113-d607-48ca-8847-82f8fb8bb0ac"
      },
      "execution_count": null,
      "outputs": [
        {
          "output_type": "stream",
          "name": "stderr",
          "text": [
            "Some weights of the model checkpoint at bert-base-cased were not used when initializing BertModel: ['cls.predictions.bias', 'cls.predictions.decoder.weight', 'cls.seq_relationship.bias', 'cls.predictions.transform.LayerNorm.weight', 'cls.predictions.transform.dense.bias', 'cls.seq_relationship.weight', 'cls.predictions.transform.dense.weight', 'cls.predictions.transform.LayerNorm.bias']\n",
            "- This IS expected if you are initializing BertModel from the checkpoint of a model trained on another task or with another architecture (e.g. initializing a BertForSequenceClassification model from a BertForPreTraining model).\n",
            "- This IS NOT expected if you are initializing BertModel from the checkpoint of a model that you expect to be exactly identical (initializing a BertForSequenceClassification model from a BertForSequenceClassification model).\n",
            "  0%|          | 6/2188 [00:10<1:03:29,  1.75s/it]\n"
          ]
        },
        {
          "output_type": "error",
          "ename": "KeyboardInterrupt",
          "evalue": "ignored",
          "traceback": [
            "\u001b[0;31m---------------------------------------------------------------------------\u001b[0m",
            "\u001b[0;31mKeyboardInterrupt\u001b[0m                         Traceback (most recent call last)",
            "\u001b[0;32m<ipython-input-20-d2549ad77502>\u001b[0m in \u001b[0;36m<module>\u001b[0;34m\u001b[0m\n\u001b[1;32m      5\u001b[0m \u001b[0mPmodel\u001b[0m\u001b[0;34m.\u001b[0m\u001b[0mload_state_dict\u001b[0m\u001b[0;34m(\u001b[0m\u001b[0mtorch\u001b[0m\u001b[0;34m.\u001b[0m\u001b[0mload\u001b[0m\u001b[0;34m(\u001b[0m\u001b[0;34mf'/content/drive/MyDrive/Review/Models/preprocessed_{LR}/epoch_3/model.pt'\u001b[0m\u001b[0;34m)\u001b[0m\u001b[0;34m)\u001b[0m\u001b[0;34m\u001b[0m\u001b[0;34m\u001b[0m\u001b[0m\n\u001b[1;32m      6\u001b[0m \u001b[0;34m\u001b[0m\u001b[0m\n\u001b[0;32m----> 7\u001b[0;31m \u001b[0mtrain\u001b[0m\u001b[0;34m(\u001b[0m\u001b[0mPmodel\u001b[0m\u001b[0;34m,\u001b[0m\u001b[0mtrainp_dataloader\u001b[0m\u001b[0;34m,\u001b[0m \u001b[0mvalidationp_dataloader\u001b[0m\u001b[0;34m,\u001b[0m \u001b[0mLR\u001b[0m \u001b[0;34m,\u001b[0m \u001b[0mepochs\u001b[0m\u001b[0;34m,\u001b[0m\u001b[0;36m3\u001b[0m\u001b[0;34m)\u001b[0m\u001b[0;34m\u001b[0m\u001b[0;34m\u001b[0m\u001b[0m\n\u001b[0m\u001b[1;32m      8\u001b[0m \u001b[0;34m\u001b[0m\u001b[0m\n\u001b[1;32m      9\u001b[0m \u001b[0;31m#PATH = f'/content/drive/MyDrive/Review/Models/preprocessed_{LR}/Pmodel.pth'\u001b[0m\u001b[0;34m\u001b[0m\u001b[0;34m\u001b[0m\u001b[0;34m\u001b[0m\u001b[0m\n",
            "\u001b[0;32m<ipython-input-19-39e25f851809>\u001b[0m in \u001b[0;36mtrain\u001b[0;34m(model, train_dataloader, val_dataloader, learning_rate, epochs, start)\u001b[0m\n\u001b[1;32m     26\u001b[0m                 \u001b[0moutput\u001b[0m \u001b[0;34m=\u001b[0m \u001b[0mmodel\u001b[0m\u001b[0;34m(\u001b[0m\u001b[0minput_id\u001b[0m\u001b[0;34m,\u001b[0m \u001b[0mmask\u001b[0m\u001b[0;34m)\u001b[0m\u001b[0;34m\u001b[0m\u001b[0;34m\u001b[0m\u001b[0m\n\u001b[1;32m     27\u001b[0m                 \u001b[0mbatch_loss\u001b[0m \u001b[0;34m=\u001b[0m \u001b[0mcriterion\u001b[0m\u001b[0;34m(\u001b[0m\u001b[0moutput\u001b[0m\u001b[0;34m,\u001b[0m \u001b[0mtrain_label\u001b[0m\u001b[0;34m.\u001b[0m\u001b[0munsqueeze\u001b[0m\u001b[0;34m(\u001b[0m\u001b[0;36m1\u001b[0m\u001b[0;34m)\u001b[0m\u001b[0;34m)\u001b[0m\u001b[0;34m\u001b[0m\u001b[0;34m\u001b[0m\u001b[0m\n\u001b[0;32m---> 28\u001b[0;31m                 \u001b[0mtotal_loss_train\u001b[0m \u001b[0;34m+=\u001b[0m \u001b[0mbatch_loss\u001b[0m\u001b[0;34m.\u001b[0m\u001b[0mitem\u001b[0m\u001b[0;34m(\u001b[0m\u001b[0;34m)\u001b[0m\u001b[0;34m\u001b[0m\u001b[0;34m\u001b[0m\u001b[0m\n\u001b[0m\u001b[1;32m     29\u001b[0m                 \u001b[0moutput\u001b[0m      \u001b[0;34m=\u001b[0m \u001b[0;34m(\u001b[0m\u001b[0moutput\u001b[0m \u001b[0;34m>\u001b[0m\u001b[0;36m0.5\u001b[0m\u001b[0;34m)\u001b[0m\u001b[0;34m.\u001b[0m\u001b[0mfloat\u001b[0m\u001b[0;34m(\u001b[0m\u001b[0;34m)\u001b[0m\u001b[0;34m\u001b[0m\u001b[0;34m\u001b[0m\u001b[0m\n\u001b[1;32m     30\u001b[0m                 \u001b[0mtrain_label\u001b[0m \u001b[0;34m=\u001b[0m \u001b[0mtrain_label\u001b[0m\u001b[0;34m.\u001b[0m\u001b[0munsqueeze\u001b[0m\u001b[0;34m(\u001b[0m\u001b[0;36m1\u001b[0m\u001b[0;34m)\u001b[0m\u001b[0;34m\u001b[0m\u001b[0;34m\u001b[0m\u001b[0m\n",
            "\u001b[0;31mKeyboardInterrupt\u001b[0m: "
          ]
        }
      ]
    },
    {
      "cell_type": "markdown",
      "source": [
        "**graphs representing the change of training and validation accuracies with the number of training epochs:**"
      ],
      "metadata": {
        "id": "CuIygclFWm7N"
      }
    },
    {
      "cell_type": "markdown",
      "source": [
        "Learning rate = 0.001"
      ],
      "metadata": {
        "id": "BwD71yXqe2xC"
      }
    },
    {
      "cell_type": "code",
      "source": [
        "train_accuracy_1 = np.load(\"/content/drive/My Drive/Review/Models/preprocessed_0.001/epoch_1/trainAcc.npy\",allow_pickle=True)\n",
        "train_accuracy_2= np.load(\"/content/drive/My Drive/Review/Models/preprocessed_0.001/epoch_2/trainAcc.npy\",allow_pickle=True)\n",
        "val_accuracy_1 = np.load(\"/content/drive/My Drive/Review/Models/preprocessed_0.001/epoch_1/valAcc.npy\",allow_pickle=True)\n",
        "val_accuracy_2 = np.load(\"/content/drive/My Drive/Review/Models/preprocessed_0.001/epoch_2/valAcc.npy\",allow_pickle=True)"
      ],
      "metadata": {
        "id": "xMiKv2KZWx7g"
      },
      "execution_count": null,
      "outputs": []
    },
    {
      "cell_type": "code",
      "source": [
        "ltrain_accuracy_1=list(train_accuracy_1)\n",
        "ltrain_accuracy_2=list(train_accuracy_2)\n",
        "lval_accuracy_1=list(val_accuracy_1)\n",
        "lval_accuracy_2=list(val_accuracy_2)\n",
        "ltrain_accuracy=ltrain_accuracy_1 + ltrain_accuracy_2\n",
        "lval_accuracy = lval_accuracy_1 + lval_accuracy_2"
      ],
      "metadata": {
        "id": "JMBd-McIZeIF"
      },
      "execution_count": null,
      "outputs": []
    },
    {
      "cell_type": "code",
      "source": [
        "train_accuracies= np.array(ltrain_accuracy)\n",
        "val_accuracies= np.array(lval_accuracy)"
      ],
      "metadata": {
        "id": "FfhaoshZa8_A"
      },
      "execution_count": null,
      "outputs": []
    },
    {
      "cell_type": "code",
      "source": [
        "LR=0.001\n",
        "epochs  =  [i for i in range(1,len(lval_accuracy)+1)]\n",
        "ax1.set_ylim([0, 1])\n",
        "plt.plot(epochs, val_accuracies,'g',epochs,train_accuracies,'b')\n",
        "plt.ylim([0, 1])\n",
        "plt.title(\"learning rate= 0.001\")\n",
        "plt.xlabel(\"epochs\")\n",
        "plt.ylabel(\"accuracy\")\n",
        "plt.savefig(f'/content/drive/My Drive/Review/Models/preprocessed_{LR}/Pmodel_graph_.png') "
      ],
      "metadata": {
        "colab": {
          "base_uri": "https://localhost:8080/",
          "height": 295
        },
        "id": "tH7DLUpMb1Yj",
        "outputId": "07b3858d-ff69-46d5-8fa5-4ce2c94bd14b"
      },
      "execution_count": null,
      "outputs": [
        {
          "output_type": "display_data",
          "data": {
            "text/plain": [
              "<Figure size 432x288 with 1 Axes>"
            ],
            "image/png": "[encoded data removed]"
          },
          "metadata": {
            "needs_background": "light"
          }
        }
      ]
    },
    {
      "cell_type": "markdown",
      "source": [
        "Learning rate = 0.0001"
      ],
      "metadata": {
        "id": "ZQrmLaqJgTlZ"
      }
    },
    {
      "cell_type": "code",
      "source": [
        "train_accuracy_1 = np.load(\"/content/drive/My Drive/Review/Models/preprocessed_0.0001/epoch_1/trainAcc.npy\",allow_pickle=True)\n",
        "train_accuracy_2= np.load(\"/content/drive/My Drive/Review/Models/preprocessed_0.0001/epoch_2/trainAcc.npy\",allow_pickle=True)\n",
        "val_accuracy_1 = np.load(\"/content/drive/My Drive/Review/Models/preprocessed_0.0001/epoch_1/valAcc.npy\",allow_pickle=True)\n",
        "val_accuracy_2 = np.load(\"/content/drive/My Drive/Review/Models/preprocessed_0.0001/epoch_2/valAcc.npy\",allow_pickle=True)\n",
        "ltrain_accuracy_1=list(train_accuracy_1)\n",
        "ltrain_accuracy_2=list(train_accuracy_2)\n",
        "lval_accuracy_1=list(val_accuracy_1)\n",
        "lval_accuracy_2=list(val_accuracy_2)\n",
        "ltrain_accuracy=ltrain_accuracy_1 + ltrain_accuracy_2\n",
        "lval_accuracy = lval_accuracy_1 + lval_accuracy_2\n",
        "train_accuracies= np.array(ltrain_accuracy)\n",
        "val_accuracies= np.array(lval_accuracy)\n",
        "LR=0.0001\n",
        "epochs  =  [i for i in range(1,len(lval_accuracy)+1)]\n",
        "ax1.set_ylim([0, 1])\n",
        "plt.plot(epochs, val_accuracies,'g',epochs,train_accuracies,'b')\n",
        "plt.ylim([0, 1])\n",
        "plt.title(\"learning rate= 0.0001\")\n",
        "plt.xlabel(\"epochs\")\n",
        "plt.ylabel(\"accuracy\")\n",
        "plt.savefig(f'/content/drive/My Drive/Review/Models/preprocessed_{LR}/Pmodel_graph_.png') \n"
      ],
      "metadata": {
        "colab": {
          "base_uri": "https://localhost:8080/",
          "height": 295
        },
        "id": "_kUXaJYfgg7w",
        "outputId": "26d74d8f-7fa5-49f3-ca99-192a14d7952d"
      },
      "execution_count": null,
      "outputs": [
        {
          "output_type": "display_data",
          "data": {
            "text/plain": [
              "<Figure size 432x288 with 1 Axes>"
            ],
            "image/png": "[encoded data removed]"
          },
          "metadata": {
            "needs_background": "light"
          }
        }
      ]
    },
    {
      "cell_type": "markdown",
      "source": [
        "Learning rate = 0.0005"
      ],
      "metadata": {
        "id": "zNgxtMLMg8IY"
      }
    },
    {
      "cell_type": "code",
      "source": [
        "train_accuracy_1 = np.load(\"/content/drive/My Drive/Review/Models/preprocessed_0.0005/epoch_1/trainAcc.npy\",allow_pickle=True)\n",
        "train_accuracy_2= np.load(\"/content/drive/My Drive/Review/Models/preprocessed_0.0005/epoch_2/trainAcc.npy\",allow_pickle=True)\n",
        "val_accuracy_1 = np.load(\"/content/drive/My Drive/Review/Models/preprocessed_0.0005/epoch_1/valAcc.npy\",allow_pickle=True)\n",
        "val_accuracy_2 = np.load(\"/content/drive/My Drive/Review/Models/preprocessed_0.0005/epoch_2/valAcc.npy\",allow_pickle=True)\n",
        "ltrain_accuracy_1=list(train_accuracy_1)\n",
        "ltrain_accuracy_2=list(train_accuracy_2)\n",
        "lval_accuracy_1=list(val_accuracy_1)\n",
        "lval_accuracy_2=list(val_accuracy_2)\n",
        "ltrain_accuracy=ltrain_accuracy_1 + ltrain_accuracy_2\n",
        "lval_accuracy = lval_accuracy_1 + lval_accuracy_2\n",
        "train_accuracies= np.array(ltrain_accuracy)\n",
        "val_accuracies= np.array(lval_accuracy)\n",
        "LR=0.0005\n",
        "epochs  =  [i for i in range(1,len(lval_accuracy)+1)]\n",
        "plt.plot(epochs, val_accuracies,'g',epochs,train_accuracies,'b')\n",
        "plt.ylim([0, 1])\n",
        "plt.title(\"learning rate= 0.0005\")\n",
        "plt.xlabel(\"epochs\")\n",
        "plt.ylabel(\"accuracy\")\n",
        "plt.savefig(f'/content/drive/My Drive/Review/Models/preprocessed_{LR}/Pmodel_graph_.png') "
      ],
      "metadata": {
        "colab": {
          "base_uri": "https://localhost:8080/",
          "height": 295
        },
        "id": "fTPycae1hCby",
        "outputId": "e38a1e01-6996-418a-890d-31fe5a361fa1"
      },
      "execution_count": null,
      "outputs": [
        {
          "output_type": "display_data",
          "data": {
            "text/plain": [
              "<Figure size 432x288 with 1 Axes>"
            ],
            "image/png": "[encoded data removed]"
          },
          "metadata": {
            "needs_background": "light"
          }
        }
      ]
    },
    {
      "cell_type": "markdown",
      "source": [
        "Learning rate = 5e-05:"
      ],
      "metadata": {
        "id": "xu8-8WlkjSoe"
      }
    },
    {
      "cell_type": "code",
      "source": [
        "train_accuracy_1 = np.load(\"/content/drive/My Drive/Review/Models/preprocessed_5e-05/epoch_1/trainAcc.npy\",allow_pickle=True)\n",
        "train_accuracy_2= np.load(\"/content/drive/My Drive/Review/Models/preprocessed_5e-05/epoch_2/trainAcc.npy\",allow_pickle=True)\n",
        "train_accuracy_3 = np.load(\"/content/drive/My Drive/Review/Models/preprocessed_5e-05/epoch_3/trainAcc.npy\",allow_pickle=True)\n",
        "train_accuracy_4= np.load(\"/content/drive/My Drive/Review/Models/preprocessed_5e-05/epoch_4/trainAcc.npy\",allow_pickle=True)\n",
        "train_accuracy_5 = np.load(\"/content/drive/My Drive/Review/Models/preprocessed_5e-05/epoch_5/trainAcc.npy\",allow_pickle=True)\n",
        "val_accuracy_1 = np.load(\"/content/drive/My Drive/Review/Models/preprocessed_5e-05/epoch_1/valAcc.npy\",allow_pickle=True)\n",
        "val_accuracy_2 = np.load(\"/content/drive/My Drive/Review/Models/preprocessed_5e-05/epoch_2/valAcc.npy\",allow_pickle=True)\n",
        "val_accuracy_3 = np.load(\"/content/drive/My Drive/Review/Models/preprocessed_5e-05/epoch_3/valAcc.npy\",allow_pickle=True)\n",
        "val_accuracy_4 = np.load(\"/content/drive/My Drive/Review/Models/preprocessed_5e-05/epoch_4/valAcc.npy\",allow_pickle=True)\n",
        "val_accuracy_5 = np.load(\"/content/drive/My Drive/Review/Models/preprocessed_5e-05/epoch_5/valAcc.npy\",allow_pickle=True)\n",
        "ltrain_accuracy_1=list(train_accuracy_1)\n",
        "ltrain_accuracy_2=list(train_accuracy_2)\n",
        "ltrain_accuracy_3=list(train_accuracy_3)\n",
        "ltrain_accuracy_4=list(train_accuracy_4)\n",
        "ltrain_accuracy_5=list(train_accuracy_5)\n",
        "lval_accuracy_1=list(val_accuracy_1)\n",
        "lval_accuracy_2=list(val_accuracy_2)\n",
        "lval_accuracy_3=list(val_accuracy_3)\n",
        "lval_accuracy_4=list(val_accuracy_4)\n",
        "lval_accuracy_5=list(val_accuracy_5)\n",
        "ltrain_accuracy=ltrain_accuracy_1 + ltrain_accuracy_2+ltrain_accuracy_3 + ltrain_accuracy_4+ltrain_accuracy_5 \n",
        "lval_accuracy = lval_accuracy_1 + lval_accuracy_2+lval_accuracy_3 + lval_accuracy_4+lval_accuracy_5 \n",
        "train_accuracies= np.array(ltrain_accuracy)\n",
        "val_accuracies= np.array(lval_accuracy)\n",
        "LR=5e-05\n",
        "epochs  =  [i for i in range(1,len(lval_accuracy)+1)]\n",
        "plt.plot(epochs, val_accuracies,'g',epochs,train_accuracies,'b')\n",
        "plt.ylim([0, 1])\n",
        "plt.xlim([1, 5])\n",
        "plt.title(\"learning rate= 5e-05\")\n",
        "plt.xlabel(\"epochs\")\n",
        "plt.ylabel(\"accuracy\")\n",
        "plt.savefig(f'/content/drive/My Drive/Review/Models/preprocessed_{LR}/Pmodel_graph_.png') "
      ],
      "metadata": {
        "colab": {
          "base_uri": "https://localhost:8080/",
          "height": 295
        },
        "id": "nzlZoyTnjX0L",
        "outputId": "851f7aed-ae52-41cb-a757-d72601a135f0"
      },
      "execution_count": null,
      "outputs": [
        {
          "output_type": "display_data",
          "data": {
            "text/plain": [
              "<Figure size 432x288 with 1 Axes>"
            ],
            "image/png": "[encoded data removed]"
          },
          "metadata": {
            "needs_background": "light"
          }
        }
      ]
    },
    {
      "cell_type": "markdown",
      "source": [
        "Learning rate= 1e-05"
      ],
      "metadata": {
        "id": "jy1cvQfghSyw"
      }
    },
    {
      "cell_type": "code",
      "source": [
        "train_accuracy_1 = np.load(\"/content/drive/My Drive/Review/Models/preprocessed_1e-05/epoch_1/trainAcc.npy\",allow_pickle=True)\n",
        "train_accuracy_2= np.load(\"/content/drive/My Drive/Review/Models/preprocessed_1e-05/epoch_2/trainAcc.npy\",allow_pickle=True)\n",
        "train_accuracy_3 = np.load(\"/content/drive/My Drive/Review/Models/preprocessed_1e-05/epoch_3/trainAcc.npy\",allow_pickle=True)\n",
        "train_accuracy_4= np.load(\"/content/drive/My Drive/Review/Models/preprocessed_1e-05/epoch_4/trainAcc.npy\",allow_pickle=True)\n",
        "train_accuracy_5 = np.load(\"/content/drive/My Drive/Review/Models/preprocessed_1e-05/epoch_5/trainAcc.npy\",allow_pickle=True)\n",
        "train_accuracy_6= np.load(\"/content/drive/My Drive/Review/Models/preprocessed_1e-05/epoch_6/trainAcc.npy\",allow_pickle=True)\n",
        "val_accuracy_1 = np.load(\"/content/drive/My Drive/Review/Models/preprocessed_1e-05/epoch_1/valAcc.npy\",allow_pickle=True)\n",
        "val_accuracy_2 = np.load(\"/content/drive/My Drive/Review/Models/preprocessed_1e-05/epoch_2/valAcc.npy\",allow_pickle=True)\n",
        "val_accuracy_3 = np.load(\"/content/drive/My Drive/Review/Models/preprocessed_1e-05/epoch_3/valAcc.npy\",allow_pickle=True)\n",
        "val_accuracy_4 = np.load(\"/content/drive/My Drive/Review/Models/preprocessed_1e-05/epoch_4/valAcc.npy\",allow_pickle=True)\n",
        "val_accuracy_5 = np.load(\"/content/drive/My Drive/Review/Models/preprocessed_1e-05/epoch_5/valAcc.npy\",allow_pickle=True)\n",
        "val_accuracy_6 = np.load(\"/content/drive/My Drive/Review/Models/preprocessed_1e-05/epoch_6/valAcc.npy\",allow_pickle=True)\n",
        "ltrain_accuracy_1=list(train_accuracy_1)\n",
        "ltrain_accuracy_2=list(train_accuracy_2)\n",
        "ltrain_accuracy_3=list(train_accuracy_3)\n",
        "ltrain_accuracy_4=list(train_accuracy_4)\n",
        "ltrain_accuracy_5=list(train_accuracy_5)\n",
        "ltrain_accuracy_6=list(train_accuracy_6)\n",
        "lval_accuracy_1=list(val_accuracy_1)\n",
        "lval_accuracy_2=list(val_accuracy_2)\n",
        "lval_accuracy_3=list(val_accuracy_3)\n",
        "lval_accuracy_4=list(val_accuracy_4)\n",
        "lval_accuracy_5=list(val_accuracy_5)\n",
        "lval_accuracy_6=list(val_accuracy_6)\n",
        "ltrain_accuracy=ltrain_accuracy_1 + ltrain_accuracy_2+ltrain_accuracy_3 + ltrain_accuracy_4+ltrain_accuracy_5 + ltrain_accuracy_6\n",
        "lval_accuracy = lval_accuracy_1 + lval_accuracy_2+lval_accuracy_3 + lval_accuracy_4+lval_accuracy_5 + lval_accuracy_6\n",
        "train_accuracies= np.array(ltrain_accuracy)\n",
        "val_accuracies= np.array(lval_accuracy)\n",
        "LR=1e-05\n",
        "epochs  =  [i for i in range(1,len(lval_accuracy)+1)]\n",
        "plt.plot(epochs, val_accuracies,'g',epochs,train_accuracies,'b')\n",
        "plt.ylim([0, 1])\n",
        "plt.xlim([0, 6])\n",
        "plt.title(\"learning rate= 1e-05\")\n",
        "plt.xlabel(\"epochs\")\n",
        "plt.ylabel(\"accuracy\")\n",
        "plt.savefig(f'/content/drive/My Drive/Review/Models/preprocessed_{LR}/Pmodel_graph_.png') "
      ],
      "metadata": {
        "colab": {
          "base_uri": "https://localhost:8080/",
          "height": 295
        },
        "id": "9YLGsW6chaCM",
        "outputId": "487f054d-0820-4fae-8fce-d34e44c9f68e"
      },
      "execution_count": null,
      "outputs": [
        {
          "output_type": "display_data",
          "data": {
            "text/plain": [
              "<Figure size 432x288 with 1 Axes>"
            ],
            "image/png": "[encoded data removed]"
          },
          "metadata": {
            "needs_background": "light"
          }
        }
      ]
    },
    {
      "cell_type": "markdown",
      "source": [
        "Learning rate = 1e-06:"
      ],
      "metadata": {
        "id": "AcuTZhZwkV3m"
      }
    },
    {
      "cell_type": "code",
      "source": [
        "train_accuracy_1 = np.load(\"/content/drive/My Drive/Review/Models/preprocessed_1e-06/epoch_1/trainAcc.npy\",allow_pickle=True)\n",
        "train_accuracy_2= np.load(\"/content/drive/My Drive/Review/Models/preprocessed_1e-06/epoch_2/trainAcc.npy\",allow_pickle=True)\n",
        "train_accuracy_3 = np.load(\"/content/drive/My Drive/Review/Models/preprocessed_1e-06/epoch_3/trainAcc.npy\",allow_pickle=True)\n",
        "train_accuracy_4= np.load(\"/content/drive/My Drive/Review/Models/preprocessed_1e-06/epoch_4/trainAcc.npy\",allow_pickle=True)\n",
        "train_accuracy_5 = np.load(\"/content/drive/My Drive/Review/Models/preprocessed_1e-06/epoch_5/trainAcc.npy\",allow_pickle=True)\n",
        "val_accuracy_1 = np.load(\"/content/drive/My Drive/Review/Models/preprocessed_1e-06/epoch_1/valAcc.npy\",allow_pickle=True)\n",
        "val_accuracy_2 = np.load(\"/content/drive/My Drive/Review/Models/preprocessed_1e-06/epoch_2/valAcc.npy\",allow_pickle=True)\n",
        "val_accuracy_3 = np.load(\"/content/drive/My Drive/Review/Models/preprocessed_1e-06/epoch_3/valAcc.npy\",allow_pickle=True)\n",
        "val_accuracy_4 = np.load(\"/content/drive/My Drive/Review/Models/preprocessed_1e-06/epoch_4/valAcc.npy\",allow_pickle=True)\n",
        "val_accuracy_5 = np.load(\"/content/drive/My Drive/Review/Models/preprocessed_1e-06/epoch_5/valAcc.npy\",allow_pickle=True)\n",
        "ltrain_accuracy_1=list(train_accuracy_1)\n",
        "ltrain_accuracy_2=list(train_accuracy_2)\n",
        "ltrain_accuracy_3=list(train_accuracy_3)\n",
        "ltrain_accuracy_4=list(train_accuracy_4)\n",
        "ltrain_accuracy_5=list(train_accuracy_5)\n",
        "lval_accuracy_1=list(val_accuracy_1)\n",
        "lval_accuracy_2=list(val_accuracy_2)\n",
        "lval_accuracy_3=list(val_accuracy_3)\n",
        "lval_accuracy_4=list(val_accuracy_4)\n",
        "lval_accuracy_5=list(val_accuracy_5)\n",
        "ltrain_accuracy=ltrain_accuracy_1 + ltrain_accuracy_2+ltrain_accuracy_3 + ltrain_accuracy_4+ltrain_accuracy_5 \n",
        "lval_accuracy = lval_accuracy_1 + lval_accuracy_2+lval_accuracy_3 + lval_accuracy_4+lval_accuracy_5 \n",
        "train_accuracies= np.array(ltrain_accuracy)\n",
        "val_accuracies= np.array(lval_accuracy)\n",
        "LR=1e-06\n",
        "epochs  =  [i for i in range(1,len(lval_accuracy)+1)]\n",
        "plt.plot(epochs, val_accuracies,'g',epochs,train_accuracies,'b')\n",
        "plt.ylim([0, 1])\n",
        "plt.xlim([0, 6])\n",
        "plt.title(\"learning rate= 1e-06\")\n",
        "plt.xlabel(\"epochs\")\n",
        "plt.ylabel(\"accuracy\")\n",
        "plt.savefig(f'/content/drive/My Drive/Review/Models/preprocessed_{LR}/Pmodel_graph_.png')"
      ],
      "metadata": {
        "colab": {
          "base_uri": "https://localhost:8080/",
          "height": 295
        },
        "id": "X7C7UDrsla_q",
        "outputId": "6c23104d-0939-4c97-b396-630a117f8e49"
      },
      "execution_count": null,
      "outputs": [
        {
          "output_type": "display_data",
          "data": {
            "text/plain": [
              "<Figure size 432x288 with 1 Axes>"
            ],
            "image/png": "[encoded data removed]"
          },
          "metadata": {
            "needs_background": "light"
          }
        }
      ]
    },
    {
      "cell_type": "markdown",
      "source": [
        "Learning rate = 5e-06:\n"
      ],
      "metadata": {
        "id": "eVak0kOmnxOL"
      }
    },
    {
      "cell_type": "code",
      "source": [
        "train_accuracy_1 = np.load(\"/content/drive/My Drive/Review/Models/preprocessed_5e-06/epoch_1/trainAcc.npy\",allow_pickle=True)\n",
        "train_accuracy_2= np.load(\"/content/drive/My Drive/Review/Models/preprocessed_5e-06/epoch_2/trainAcc.npy\",allow_pickle=True)\n",
        "train_accuracy_3 = np.load(\"/content/drive/My Drive/Review/Models/preprocessed_5e-06/epoch_3/trainAcc.npy\",allow_pickle=True)\n",
        "train_accuracy_4= np.load(\"/content/drive/My Drive/Review/Models/preprocessed_5e-06/epoch_4/trainAcc.npy\",allow_pickle=True)\n",
        "train_accuracy_5 = np.load(\"/content/drive/My Drive/Review/Models/preprocessed_5e-06/epoch_5/trainAcc.npy\",allow_pickle=True)\n",
        "train_accuracy_6= np.load(\"/content/drive/My Drive/Review/Models/preprocessed_5e-06/epoch_6/trainAcc.npy\",allow_pickle=True)\n",
        "val_accuracy_1 = np.load(\"/content/drive/My Drive/Review/Models/preprocessed_5e-06/epoch_1/valAcc.npy\",allow_pickle=True)\n",
        "val_accuracy_2 = np.load(\"/content/drive/My Drive/Review/Models/preprocessed_5e-06/epoch_2/valAcc.npy\",allow_pickle=True)\n",
        "val_accuracy_3 = np.load(\"/content/drive/My Drive/Review/Models/preprocessed_5e-06/epoch_3/valAcc.npy\",allow_pickle=True)\n",
        "val_accuracy_4 = np.load(\"/content/drive/My Drive/Review/Models/preprocessed_5e-06/epoch_4/valAcc.npy\",allow_pickle=True)\n",
        "val_accuracy_5 = np.load(\"/content/drive/My Drive/Review/Models/preprocessed_5e-06/epoch_5/valAcc.npy\",allow_pickle=True)\n",
        "val_accuracy_6 = np.load(\"/content/drive/My Drive/Review/Models/preprocessed_5e-06/epoch_6/valAcc.npy\",allow_pickle=True)\n",
        "ltrain_accuracy_1=list(train_accuracy_1)\n",
        "ltrain_accuracy_2=list(train_accuracy_2)\n",
        "ltrain_accuracy_3=list(train_accuracy_3)\n",
        "ltrain_accuracy_4=list(train_accuracy_4)\n",
        "ltrain_accuracy_5=list(train_accuracy_5)\n",
        "ltrain_accuracy_6=list(train_accuracy_6)\n",
        "lval_accuracy_1=list(val_accuracy_1)\n",
        "lval_accuracy_2=list(val_accuracy_2)\n",
        "lval_accuracy_3=list(val_accuracy_3)\n",
        "lval_accuracy_4=list(val_accuracy_4)\n",
        "lval_accuracy_5=list(val_accuracy_5)\n",
        "lval_accuracy_6=list(val_accuracy_6)\n",
        "ltrain_accuracy=ltrain_accuracy_1 + ltrain_accuracy_2+ltrain_accuracy_3 + ltrain_accuracy_4+ltrain_accuracy_5 + ltrain_accuracy_6\n",
        "lval_accuracy = lval_accuracy_1 + lval_accuracy_2+lval_accuracy_3 + lval_accuracy_4+lval_accuracy_5 + lval_accuracy_6\n",
        "train_accuracies= np.array(ltrain_accuracy)\n",
        "val_accuracies= np.array(lval_accuracy)\n",
        "LR=5e-06\n",
        "epochs  =  [i for i in range(1,len(lval_accuracy)+1)]\n",
        "plt.plot(epochs, val_accuracies,'g',epochs,train_accuracies,'b')\n",
        "plt.ylim([0, 1])\n",
        "plt.xlim([0, 6])\n",
        "plt.title(\"learning rate= 5e-06\")\n",
        "plt.xlabel(\"epochs\")\n",
        "plt.ylabel(\"accuracy\")\n",
        "plt.savefig(f'/content/drive/My Drive/Review/Models/preprocessed_{LR}/Pmodel_graph_.png')"
      ],
      "metadata": {
        "colab": {
          "base_uri": "https://localhost:8080/",
          "height": 295
        },
        "id": "WmY3FtWIn7Xx",
        "outputId": "81b2afc5-0194-4f5c-c50b-d56c948fffd7"
      },
      "execution_count": null,
      "outputs": [
        {
          "output_type": "display_data",
          "data": {
            "text/plain": [
              "<Figure size 432x288 with 1 Axes>"
            ],
            "image/png": "[encoded data removed]"
          },
          "metadata": {
            "needs_background": "light"
          }
        }
      ]
    },
    {
      "cell_type": "markdown",
      "source": [
        "**the best validation accuracies for thedifferent values of learning rate:**"
      ],
      "metadata": {
        "id": "5NVFSLpyqxlL"
      }
    },
    {
      "cell_type": "code",
      "source": [
        "val_accuracy_001 = np.load(\"/content/drive/My Drive/Review/Models/preprocessed_0.001/epoch_2/valAcc.npy\",allow_pickle=True)\n",
        "val_accuracy_0001 = np.load(\"/content/drive/My Drive/Review/Models/preprocessed_0.0001/epoch_2/valAcc.npy\",allow_pickle=True)\n",
        "val_accuracy_0005 = np.load(\"/content/drive/My Drive/Review/Models/preprocessed_0.0005/epoch_2/valAcc.npy\",allow_pickle=True)\n",
        "val_accuracy_1eneg5 = np.load(\"/content/drive/My Drive/Review/Models/preprocessed_1e-05/epoch_5/valAcc.npy\",allow_pickle=True)\n",
        "val_accuracy_5eneg5 = np.load(\"/content/drive/My Drive/Review/Models/preprocessed_5e-05/epoch_3/valAcc.npy\",allow_pickle=True)\n",
        "val_accuracy_1eneg6 = np.load(\"/content/drive/My Drive/Review/Models/preprocessed_1e-06/epoch_3/valAcc.npy\",allow_pickle=True)\n",
        "val_accuracy_5eneg6 = np.load(\"/content/drive/My Drive/Review/Models/preprocessed_5e-06/epoch_6/valAcc.npy\",allow_pickle=True)\n",
        "accuracies=[0.5,0.498,0.498,0.934,0.95,0.5,0.951]\n",
        "lrs=[\"1e-3\", \"1e-4\",\"5e-4\",\"1e-5\",\"5e-5\",\"1e-6\",\"5e-6\"]\n",
        "plt.bar(np.array(lrs),np.array(accuracies),  color ='blue',width = 0.4)\n",
        "plt.xlabel(\"Learning rate\")\n",
        "plt.ylabel(\"highest validation accuracy\")\n",
        "plt.title(\"Validation accuracy against learning rate\")\n",
        "plt.show()\n",
        "\n",
        "\n",
        "\n",
        "\n",
        "\n",
        "\n"
      ],
      "metadata": {
        "colab": {
          "base_uri": "https://localhost:8080/",
          "height": 295
        },
        "id": "AZgd5c6crBty",
        "outputId": "1ae3d64e-9b42-4449-e0a2-6afcd01aed1f"
      },
      "execution_count": null,
      "outputs": [
        {
          "output_type": "display_data",
          "data": {
            "text/plain": [
              "<Figure size 432x288 with 1 Axes>"
            ],
            "image/png": "[encoded data removed]"
          },
          "metadata": {
            "needs_background": "light"
          }
        }
      ]
    },
    {
      "cell_type": "markdown",
      "source": [
        "# Training the unprocessed data:"
      ],
      "metadata": {
        "id": "Qw_10e5oBE00"
      }
    },
    {
      "cell_type": "code",
      "source": [
        "import pickle \n",
        "import gc\n",
        "import matplotlib.pyplot as plt\n",
        "from sklearn.metrics import accuracy_score\n",
        "from sklearn.model_selection import KFold\n",
        "import os\n",
        "\n",
        "epochs=1\n",
        "Lrs=[1e-3, 0.5e-4, 1e-4,0.5e-5, 1e-5,0.5e-6, 1e-6] #used in tuning\n",
        "\n",
        "train_accuracy = []\n",
        "validation_accuarcy = []\n",
        "train_loss = []\n",
        "validation_loss = []\n",
        "train_accuracy_compare = []\n",
        "validation_accuarcy_compare = []\n",
        "train_loss_compare = []\n",
        "val_loss_compare = []"
      ],
      "metadata": {
        "id": "2yQ9NxcGBELY"
      },
      "execution_count": null,
      "outputs": []
    },
    {
      "cell_type": "code",
      "source": [
        "Pmodel = BertClassifier()\n",
        "LR= 1e-6\n",
        "Pmodel.load_state_dict(torch.load(f'/content/drive/MyDrive/Review/Models/unprocessed_{LR}/epoch_5/model.pt'))\n",
        "\n",
        "train(Pmodel,trainup_dataloader, validationup_dataloader, LR , epochs,5)\n",
        "\n",
        "#PATH = f'/content/drive/MyDrive/Review/Models/unprocessed_{LR}/Pmodel.pth'\n",
        "#torch.save(Pmodel, PATH)\n",
        "train_accuracy_compare.append(train_accuracy[-1])\n",
        "validation_accuarcy_compare.append(validation_accuarcy[-1])\n",
        "\n",
        "train_loss_compare.append(train_loss[-1])\n",
        "val_loss_compare.append(validation_loss[-1])\n",
        "\n",
        "\n",
        "with open(f'/content/drive/My Drive/Review/Models/unprocessed_{LR}/train_accuracy_{LR}','wb+') as f: \n",
        "          pickle.dump( np.array(train_accuracy), f)\n",
        "\n",
        "with open(f'/content/drive/My Drive/Review/Models/unprocessed_{LR}/validation_accuarcy_{LR}','wb+') as f: \n",
        "          pickle.dump( np.array(validation_accuarcy), f)\n",
        "\n",
        "with open(f'/content/drive/My Drive/Review/Models/unprocessed_{LR}/train_loss_{LR}','wb+') as f: \n",
        "          pickle.dump( np.array(train_loss), f)\n",
        "\n",
        "with open(f'/content/drive/My Drive/Review/Models/unprocessed_{LR}/validation_loss_{LR}','wb+') as f: \n",
        "          pickle.dump( np.array(validation_loss), f)\n",
        "\n",
        "epochs  =  [i for i in range(0,len(validation_loss))]\n",
        "fig , (ax1, ax2) = plt.subplots(1, 2)\n",
        "fig.suptitle(f'PModel plot')\n",
        "ax1.set_ylim([0, 1])\n",
        "ax1.plot(epochs, validation_loss,'g',epochs,train_loss,'b')\n",
        "ax2.set_ylim([0, 1])\n",
        "ax2.plot(epochs,validation_accuarcy,'g',epochs,train_accuracy,'b')\n",
        "plt.savefig(f'/content/drive/My Drive/Review/Models/unprocessed_{LR}/Pmodel_graph_.png') \n"
      ],
      "metadata": {
        "id": "eFSDj_LaDAIf",
        "colab": {
          "base_uri": "https://localhost:8080/",
          "height": 522
        },
        "outputId": "66a67e3a-47d6-4f06-d67a-0749d9d614f4"
      },
      "execution_count": null,
      "outputs": [
        {
          "output_type": "stream",
          "name": "stderr",
          "text": [
            "Some weights of the model checkpoint at bert-base-cased were not used when initializing BertModel: ['cls.seq_relationship.weight', 'cls.predictions.bias', 'cls.predictions.transform.LayerNorm.bias', 'cls.predictions.transform.dense.weight', 'cls.predictions.decoder.weight', 'cls.predictions.transform.LayerNorm.weight', 'cls.predictions.transform.dense.bias', 'cls.seq_relationship.bias']\n",
            "- This IS expected if you are initializing BertModel from the checkpoint of a model trained on another task or with another architecture (e.g. initializing a BertForSequenceClassification model from a BertForPreTraining model).\n",
            "- This IS NOT expected if you are initializing BertModel from the checkpoint of a model that you expect to be exactly identical (initializing a BertForSequenceClassification model from a BertForSequenceClassification model).\n",
            "100%|██████████| 2188/2188 [13:05<00:00,  2.79it/s]\n"
          ]
        },
        {
          "output_type": "error",
          "ename": "RuntimeError",
          "evalue": "ignored",
          "traceback": [
            "\u001b[0;31m---------------------------------------------------------------------------\u001b[0m",
            "\u001b[0;31mRuntimeError\u001b[0m                              Traceback (most recent call last)",
            "\u001b[0;32m<ipython-input-24-527e708b28df>\u001b[0m in \u001b[0;36m<module>\u001b[0;34m\u001b[0m\n\u001b[1;32m      3\u001b[0m \u001b[0mPmodel\u001b[0m\u001b[0;34m.\u001b[0m\u001b[0mload_state_dict\u001b[0m\u001b[0;34m(\u001b[0m\u001b[0mtorch\u001b[0m\u001b[0;34m.\u001b[0m\u001b[0mload\u001b[0m\u001b[0;34m(\u001b[0m\u001b[0;34mf'/content/drive/MyDrive/Review/Models/unprocessed_{LR}/epoch_5/model.pt'\u001b[0m\u001b[0;34m)\u001b[0m\u001b[0;34m)\u001b[0m\u001b[0;34m\u001b[0m\u001b[0;34m\u001b[0m\u001b[0m\n\u001b[1;32m      4\u001b[0m \u001b[0;34m\u001b[0m\u001b[0m\n\u001b[0;32m----> 5\u001b[0;31m \u001b[0mtrain\u001b[0m\u001b[0;34m(\u001b[0m\u001b[0mPmodel\u001b[0m\u001b[0;34m,\u001b[0m\u001b[0mtrainup_dataloader\u001b[0m\u001b[0;34m,\u001b[0m \u001b[0mvalidationup_dataloader\u001b[0m\u001b[0;34m,\u001b[0m \u001b[0mLR\u001b[0m \u001b[0;34m,\u001b[0m \u001b[0mepochs\u001b[0m\u001b[0;34m,\u001b[0m\u001b[0;36m5\u001b[0m\u001b[0;34m)\u001b[0m\u001b[0;34m\u001b[0m\u001b[0;34m\u001b[0m\u001b[0m\n\u001b[0m\u001b[1;32m      6\u001b[0m \u001b[0;34m\u001b[0m\u001b[0m\n\u001b[1;32m      7\u001b[0m \u001b[0;31m#PATH = f'/content/drive/MyDrive/Review/Models/unprocessed_{LR}/Pmodel.pth'\u001b[0m\u001b[0;34m\u001b[0m\u001b[0;34m\u001b[0m\u001b[0;34m\u001b[0m\u001b[0m\n",
            "\u001b[0;32m<ipython-input-12-765f25650400>\u001b[0m in \u001b[0;36mtrain\u001b[0;34m(model, train_dataloader, val_dataloader, learning_rate, epochs, start)\u001b[0m\n\u001b[1;32m     60\u001b[0m                     \u001b[0mtotal_acc_val\u001b[0m \u001b[0;34m+=\u001b[0m \u001b[0macc\u001b[0m\u001b[0;34m\u001b[0m\u001b[0;34m\u001b[0m\u001b[0m\n\u001b[1;32m     61\u001b[0m \u001b[0;34m\u001b[0m\u001b[0m\n\u001b[0;32m---> 62\u001b[0;31m             \u001b[0mtorch\u001b[0m\u001b[0;34m.\u001b[0m\u001b[0msave\u001b[0m\u001b[0;34m(\u001b[0m\u001b[0mmodel\u001b[0m\u001b[0;34m.\u001b[0m\u001b[0mstate_dict\u001b[0m\u001b[0;34m(\u001b[0m\u001b[0;34m)\u001b[0m\u001b[0;34m,\u001b[0m \u001b[0;34mf'/content/drive/MyDrive/Review/Models/preprocessed_{learning_rate}/epoch_{epoch_num+1+start}/model.pt'\u001b[0m\u001b[0;34m)\u001b[0m\u001b[0;34m\u001b[0m\u001b[0;34m\u001b[0m\u001b[0m\n\u001b[0m\u001b[1;32m     63\u001b[0m             print(\n\u001b[1;32m     64\u001b[0m                 \u001b[0mf\u001b[0m\u001b[0;31m'\u001b[0m\u001b[0mEpochs\u001b[0m\u001b[0;34m:\u001b[0m \u001b[0;34m{\u001b[0m\u001b[0mepoch_num\u001b[0m \u001b[0;34m+\u001b[0m \u001b[0;36m1\u001b[0m\u001b[0;34m+\u001b[0m\u001b[0mstart\u001b[0m\u001b[0;34m}\u001b[0m \u001b[0;34m|\u001b[0m \u001b[0mTrain\u001b[0m \u001b[0mLoss\u001b[0m\u001b[0;34m:\u001b[0m \u001b[0;34m{\u001b[0m\u001b[0;36m16\u001b[0m\u001b[0;34m*\u001b[0m\u001b[0;34m(\u001b[0m\u001b[0mtotal_loss_train\u001b[0m \u001b[0;34m/\u001b[0m \u001b[0mlen\u001b[0m\u001b[0;34m(\u001b[0m\u001b[0mtrain_dataloader\u001b[0m\u001b[0;34m.\u001b[0m\u001b[0mdataset\u001b[0m\u001b[0;34m)\u001b[0m\u001b[0;34m)\u001b[0m\u001b[0;34m:\u001b[0m \u001b[0;36m.3\u001b[0m\u001b[0mf\u001b[0m\u001b[0;34m}\u001b[0m\u001b[0;31m \u001b[0m\u001b[0;31m\\\u001b[0m\u001b[0;34m\u001b[0m\u001b[0;34m\u001b[0m\u001b[0m\n",
            "\u001b[0;32m/usr/local/lib/python3.8/dist-packages/torch/serialization.py\u001b[0m in \u001b[0;36msave\u001b[0;34m(obj, f, pickle_module, pickle_protocol, _use_new_zipfile_serialization)\u001b[0m\n\u001b[1;32m    420\u001b[0m \u001b[0;34m\u001b[0m\u001b[0m\n\u001b[1;32m    421\u001b[0m     \u001b[0;32mif\u001b[0m \u001b[0m_use_new_zipfile_serialization\u001b[0m\u001b[0;34m:\u001b[0m\u001b[0;34m\u001b[0m\u001b[0;34m\u001b[0m\u001b[0m\n\u001b[0;32m--> 422\u001b[0;31m         \u001b[0;32mwith\u001b[0m \u001b[0m_open_zipfile_writer\u001b[0m\u001b[0;34m(\u001b[0m\u001b[0mf\u001b[0m\u001b[0;34m)\u001b[0m \u001b[0;32mas\u001b[0m \u001b[0mopened_zipfile\u001b[0m\u001b[0;34m:\u001b[0m\u001b[0;34m\u001b[0m\u001b[0;34m\u001b[0m\u001b[0m\n\u001b[0m\u001b[1;32m    423\u001b[0m             \u001b[0m_save\u001b[0m\u001b[0;34m(\u001b[0m\u001b[0mobj\u001b[0m\u001b[0;34m,\u001b[0m \u001b[0mopened_zipfile\u001b[0m\u001b[0;34m,\u001b[0m \u001b[0mpickle_module\u001b[0m\u001b[0;34m,\u001b[0m \u001b[0mpickle_protocol\u001b[0m\u001b[0;34m)\u001b[0m\u001b[0;34m\u001b[0m\u001b[0;34m\u001b[0m\u001b[0m\n\u001b[1;32m    424\u001b[0m             \u001b[0;32mreturn\u001b[0m\u001b[0;34m\u001b[0m\u001b[0;34m\u001b[0m\u001b[0m\n",
            "\u001b[0;32m/usr/local/lib/python3.8/dist-packages/torch/serialization.py\u001b[0m in \u001b[0;36m_open_zipfile_writer\u001b[0;34m(name_or_buffer)\u001b[0m\n\u001b[1;32m    307\u001b[0m     \u001b[0;32melse\u001b[0m\u001b[0;34m:\u001b[0m\u001b[0;34m\u001b[0m\u001b[0;34m\u001b[0m\u001b[0m\n\u001b[1;32m    308\u001b[0m         \u001b[0mcontainer\u001b[0m \u001b[0;34m=\u001b[0m \u001b[0m_open_zipfile_writer_buffer\u001b[0m\u001b[0;34m\u001b[0m\u001b[0;34m\u001b[0m\u001b[0m\n\u001b[0;32m--> 309\u001b[0;31m     \u001b[0;32mreturn\u001b[0m \u001b[0mcontainer\u001b[0m\u001b[0;34m(\u001b[0m\u001b[0mname_or_buffer\u001b[0m\u001b[0;34m)\u001b[0m\u001b[0;34m\u001b[0m\u001b[0;34m\u001b[0m\u001b[0m\n\u001b[0m\u001b[1;32m    310\u001b[0m \u001b[0;34m\u001b[0m\u001b[0m\n\u001b[1;32m    311\u001b[0m \u001b[0;34m\u001b[0m\u001b[0m\n",
            "\u001b[0;32m/usr/local/lib/python3.8/dist-packages/torch/serialization.py\u001b[0m in \u001b[0;36m__init__\u001b[0;34m(self, name)\u001b[0m\n\u001b[1;32m    285\u001b[0m \u001b[0;32mclass\u001b[0m \u001b[0m_open_zipfile_writer_file\u001b[0m\u001b[0;34m(\u001b[0m\u001b[0m_opener\u001b[0m\u001b[0;34m)\u001b[0m\u001b[0;34m:\u001b[0m\u001b[0;34m\u001b[0m\u001b[0;34m\u001b[0m\u001b[0m\n\u001b[1;32m    286\u001b[0m     \u001b[0;32mdef\u001b[0m \u001b[0m__init__\u001b[0m\u001b[0;34m(\u001b[0m\u001b[0mself\u001b[0m\u001b[0;34m,\u001b[0m \u001b[0mname\u001b[0m\u001b[0;34m)\u001b[0m \u001b[0;34m->\u001b[0m \u001b[0;32mNone\u001b[0m\u001b[0;34m:\u001b[0m\u001b[0;34m\u001b[0m\u001b[0;34m\u001b[0m\u001b[0m\n\u001b[0;32m--> 287\u001b[0;31m         \u001b[0msuper\u001b[0m\u001b[0;34m(\u001b[0m\u001b[0m_open_zipfile_writer_file\u001b[0m\u001b[0;34m,\u001b[0m \u001b[0mself\u001b[0m\u001b[0;34m)\u001b[0m\u001b[0;34m.\u001b[0m\u001b[0m__init__\u001b[0m\u001b[0;34m(\u001b[0m\u001b[0mtorch\u001b[0m\u001b[0;34m.\u001b[0m\u001b[0m_C\u001b[0m\u001b[0;34m.\u001b[0m\u001b[0mPyTorchFileWriter\u001b[0m\u001b[0;34m(\u001b[0m\u001b[0mstr\u001b[0m\u001b[0;34m(\u001b[0m\u001b[0mname\u001b[0m\u001b[0;34m)\u001b[0m\u001b[0;34m)\u001b[0m\u001b[0;34m)\u001b[0m\u001b[0;34m\u001b[0m\u001b[0;34m\u001b[0m\u001b[0m\n\u001b[0m\u001b[1;32m    288\u001b[0m \u001b[0;34m\u001b[0m\u001b[0m\n\u001b[1;32m    289\u001b[0m     \u001b[0;32mdef\u001b[0m \u001b[0m__exit__\u001b[0m\u001b[0;34m(\u001b[0m\u001b[0mself\u001b[0m\u001b[0;34m,\u001b[0m \u001b[0;34m*\u001b[0m\u001b[0margs\u001b[0m\u001b[0;34m)\u001b[0m \u001b[0;34m->\u001b[0m \u001b[0;32mNone\u001b[0m\u001b[0;34m:\u001b[0m\u001b[0;34m\u001b[0m\u001b[0;34m\u001b[0m\u001b[0m\n",
            "\u001b[0;31mRuntimeError\u001b[0m: Parent directory /content/drive/MyDrive/Review/Models/preprocessed_1e-06/epoch_6 does not exist."
          ]
        }
      ]
    },
    {
      "cell_type": "markdown",
      "source": [
        "**graphs representing the change of training and validation accuracies with the number of training epochs:**"
      ],
      "metadata": {
        "id": "nm8TUajVugXb"
      }
    },
    {
      "cell_type": "markdown",
      "source": [
        "Learning rate = 0.001"
      ],
      "metadata": {
        "id": "cG0gHlFxuhpF"
      }
    },
    {
      "cell_type": "code",
      "source": [
        "train_accuracy_1 = np.load(\"/content/drive/My Drive/Review/Models/unprocessed_0.001/epoch_1/trainAcc.npy\",allow_pickle=True)\n",
        "train_accuracy_2= np.load(\"/content/drive/My Drive/Review/Models/unprocessed_0.001/epoch_2/trainAcc.npy\",allow_pickle=True)\n",
        "val_accuracy_1 = np.load(\"/content/drive/My Drive/Review/Models/unprocessed_0.001/epoch_1/valAcc.npy\",allow_pickle=True)\n",
        "val_accuracy_2 = np.load(\"/content/drive/My Drive/Review/Models/unprocessed_0.001/epoch_2/valAcc.npy\",allow_pickle=True)\n",
        "ltrain_accuracy_1=list(train_accuracy_1)\n",
        "ltrain_accuracy_2=list(train_accuracy_2)\n",
        "lval_accuracy_1=list(val_accuracy_1)\n",
        "lval_accuracy_2=list(val_accuracy_2)\n",
        "ltrain_accuracy=ltrain_accuracy_1 + ltrain_accuracy_2\n",
        "lval_accuracy = lval_accuracy_1 + lval_accuracy_2\n",
        "train_accuracies= np.array(ltrain_accuracy)\n",
        "val_accuracies= np.array(lval_accuracy)\n",
        "LR=0.001\n",
        "epochs  =  [i for i in range(1,len(lval_accuracy)+1)]\n",
        "ax1.set_ylim([0, 1])\n",
        "plt.plot(epochs, val_accuracies,'g',epochs,train_accuracies,'b')\n",
        "plt.ylim([0, 1])\n",
        "plt.title(\"learning rate= 0.001\")\n",
        "plt.xlabel(\"epochs\")\n",
        "plt.ylabel(\"accuracy\")\n",
        "plt.savefig(f'/content/drive/My Drive/Review/Models/unprocessed_{LR}/Pmodel_graph_.png')\n",
        "\n",
        "\n"
      ],
      "metadata": {
        "colab": {
          "base_uri": "https://localhost:8080/",
          "height": 295
        },
        "id": "LpD4fRaauzf_",
        "outputId": "075cdf01-8260-4608-82fb-bdf8f96882eb"
      },
      "execution_count": null,
      "outputs": [
        {
          "output_type": "display_data",
          "data": {
            "text/plain": [
              "<Figure size 432x288 with 1 Axes>"
            ],
            "image/png": "[encoded data removed]"
          },
          "metadata": {
            "needs_background": "light"
          }
        }
      ]
    },
    {
      "cell_type": "markdown",
      "source": [
        "Learning rate = 0.0001"
      ],
      "metadata": {
        "id": "f_QIeKDAwViT"
      }
    },
    {
      "cell_type": "code",
      "source": [
        "train_accuracy_1 = np.load(\"/content/drive/My Drive/Review/Models/unprocessed_0.0001/epoch_1/trainAcc.npy\",allow_pickle=True)\n",
        "train_accuracy_2= np.load(\"/content/drive/My Drive/Review/Models/unprocessed_0.0001/epoch_2/trainAcc.npy\",allow_pickle=True)\n",
        "val_accuracy_1 = np.load(\"/content/drive/My Drive/Review/Models/unprocessed_0.0001/epoch_1/valAcc.npy\",allow_pickle=True)\n",
        "val_accuracy_2 = np.load(\"/content/drive/My Drive/Review/Models/unprocessed_0.0001/epoch_2/valAcc.npy\",allow_pickle=True)\n",
        "ltrain_accuracy_1=list(train_accuracy_1)\n",
        "ltrain_accuracy_2=list(train_accuracy_2)\n",
        "lval_accuracy_1=list(val_accuracy_1)\n",
        "lval_accuracy_2=list(val_accuracy_2)\n",
        "ltrain_accuracy=ltrain_accuracy_1 + ltrain_accuracy_2\n",
        "lval_accuracy = lval_accuracy_1 + lval_accuracy_2\n",
        "train_accuracies= np.array(ltrain_accuracy)\n",
        "val_accuracies= np.array(lval_accuracy)\n",
        "LR=0.0001\n",
        "epochs  =  [i for i in range(1,len(lval_accuracy)+1)]\n",
        "ax1.set_ylim([0, 1])\n",
        "plt.plot(epochs, val_accuracies,'g',epochs,train_accuracies,'b')\n",
        "plt.ylim([0, 1])\n",
        "plt.title(\"learning rate= 0.0001\")\n",
        "plt.xlabel(\"epochs\")\n",
        "plt.ylabel(\"accuracy\")\n",
        "plt.savefig(f'/content/drive/My Drive/Review/Models/unprocessed_{LR}/Pmodel_graph_.png')"
      ],
      "metadata": {
        "colab": {
          "base_uri": "https://localhost:8080/",
          "height": 295
        },
        "id": "xr_-McKewX-5",
        "outputId": "2b1143b0-fee3-48ed-d60f-78625954c7b6"
      },
      "execution_count": null,
      "outputs": [
        {
          "output_type": "display_data",
          "data": {
            "text/plain": [
              "<Figure size 432x288 with 1 Axes>"
            ],
            "image/png": "[encoded data removed]"
          },
          "metadata": {
            "needs_background": "light"
          }
        }
      ]
    },
    {
      "cell_type": "markdown",
      "source": [
        "Learning rate = 0.0005"
      ],
      "metadata": {
        "id": "-dljDi7ewgDq"
      }
    },
    {
      "cell_type": "code",
      "source": [
        "train_accuracy_1 = np.load(\"/content/drive/My Drive/Review/Models/unprocessed_0.0005/epoch_1/trainAcc.npy\",allow_pickle=True)\n",
        "train_accuracy_2= np.load(\"/content/drive/My Drive/Review/Models/unprocessed_0.0005/epoch_2/trainAcc.npy\",allow_pickle=True)\n",
        "val_accuracy_1 = np.load(\"/content/drive/My Drive/Review/Models/unprocessed_0.0005/epoch_1/valAcc.npy\",allow_pickle=True)\n",
        "val_accuracy_2 = np.load(\"/content/drive/My Drive/Review/Models/unprocessed_0.0005/epoch_2/valAcc.npy\",allow_pickle=True)\n",
        "ltrain_accuracy_1=list(train_accuracy_1)\n",
        "ltrain_accuracy_2=list(train_accuracy_2)\n",
        "lval_accuracy_1=list(val_accuracy_1)\n",
        "lval_accuracy_2=list(val_accuracy_2)\n",
        "ltrain_accuracy=ltrain_accuracy_1 + ltrain_accuracy_2\n",
        "lval_accuracy = lval_accuracy_1 + lval_accuracy_2\n",
        "train_accuracies= np.array(ltrain_accuracy)\n",
        "val_accuracies= np.array(lval_accuracy)\n",
        "LR=0.0005\n",
        "epochs  =  [i for i in range(1,len(lval_accuracy)+1)]\n",
        "ax1.set_ylim([0, 1])\n",
        "plt.plot(epochs, val_accuracies,'g',epochs,train_accuracies,'b')\n",
        "plt.ylim([0, 1])\n",
        "plt.title(\"learning rate= 0.0005\")\n",
        "plt.xlabel(\"epochs\")\n",
        "plt.ylabel(\"accuracy\")\n",
        "plt.savefig(f'/content/drive/My Drive/Review/Models/unprocessed_{LR}/Pmodel_graph_.png')"
      ],
      "metadata": {
        "colab": {
          "base_uri": "https://localhost:8080/",
          "height": 295
        },
        "id": "iw0V5WTpwjZ1",
        "outputId": "9a6ccf47-6e4a-4352-d592-0bced5a2f79e"
      },
      "execution_count": null,
      "outputs": [
        {
          "output_type": "display_data",
          "data": {
            "text/plain": [
              "<Figure size 432x288 with 1 Axes>"
            ],
            "image/png": "[encoded data removed]"
          },
          "metadata": {
            "needs_background": "light"
          }
        }
      ]
    },
    {
      "cell_type": "markdown",
      "source": [
        "Learning rate = 1e-5:"
      ],
      "metadata": {
        "id": "nTOeyWbqwvbb"
      }
    },
    {
      "cell_type": "code",
      "source": [
        "train_accuracy_1 = np.load(\"/content/drive/My Drive/Review/Models/unprocessed_1e-05/epoch_1/trainAcc.npy\",allow_pickle=True)\n",
        "train_accuracy_2= np.load(\"/content/drive/My Drive/Review/Models/unprocessed_1e-05/epoch_2/trainAcc.npy\",allow_pickle=True)\n",
        "train_accuracy_3 = np.load(\"/content/drive/My Drive/Review/Models/unprocessed_1e-05/epoch_3/trainAcc.npy\",allow_pickle=True)\n",
        "train_accuracy_4= np.load(\"/content/drive/My Drive/Review/Models/unprocessed_1e-05/epoch_4/trainAcc.npy\",allow_pickle=True)\n",
        "train_accuracy_5 = np.load(\"/content/drive/My Drive/Review/Models/unprocessed_1e-05/epoch_5/trainAcc.npy\",allow_pickle=True)\n",
        "train_accuracy_6= np.load(\"/content/drive/My Drive/Review/Models/unprocessed_1e-05/epoch_6/trainAcc.npy\",allow_pickle=True)\n",
        "val_accuracy_1 = np.load(\"/content/drive/My Drive/Review/Models/unprocessed_1e-05/epoch_1/valAcc.npy\",allow_pickle=True)\n",
        "val_accuracy_2 = np.load(\"/content/drive/My Drive/Review/Models/unprocessed_1e-05/epoch_2/valAcc.npy\",allow_pickle=True)\n",
        "val_accuracy_3 = np.load(\"/content/drive/My Drive/Review/Models/unprocessed_1e-05/epoch_3/valAcc.npy\",allow_pickle=True)\n",
        "val_accuracy_4 = np.load(\"/content/drive/My Drive/Review/Models/unprocessed_1e-05/epoch_4/valAcc.npy\",allow_pickle=True)\n",
        "val_accuracy_5 = np.load(\"/content/drive/My Drive/Review/Models/unprocessed_1e-05/epoch_5/valAcc.npy\",allow_pickle=True)\n",
        "val_accuracy_6 = np.load(\"/content/drive/My Drive/Review/Models/unprocessed_1e-05/epoch_6/valAcc.npy\",allow_pickle=True)\n",
        "ltrain_accuracy_1=list(train_accuracy_1)\n",
        "ltrain_accuracy_2=list(train_accuracy_2)\n",
        "ltrain_accuracy_3=list(train_accuracy_3)\n",
        "ltrain_accuracy_4=list(train_accuracy_4)\n",
        "ltrain_accuracy_5=list(train_accuracy_5)\n",
        "ltrain_accuracy_6=list(train_accuracy_6)\n",
        "lval_accuracy_1=list(val_accuracy_1)\n",
        "lval_accuracy_2=list(val_accuracy_2)\n",
        "lval_accuracy_3=list(val_accuracy_3)\n",
        "lval_accuracy_4=list(val_accuracy_4)\n",
        "lval_accuracy_5=list(val_accuracy_5)\n",
        "lval_accuracy_6=list(val_accuracy_6)\n",
        "ltrain_accuracy=ltrain_accuracy_1 + ltrain_accuracy_2+ltrain_accuracy_3 + ltrain_accuracy_4+ltrain_accuracy_5 + ltrain_accuracy_6\n",
        "lval_accuracy = lval_accuracy_1 + lval_accuracy_2+lval_accuracy_3 + lval_accuracy_4+lval_accuracy_5 + lval_accuracy_6\n",
        "train_accuracies= np.array(ltrain_accuracy)\n",
        "val_accuracies= np.array(lval_accuracy)\n",
        "LR=1e-05\n",
        "epochs  =  [i for i in range(1,len(lval_accuracy)+1)]\n",
        "plt.plot(epochs, val_accuracies,'g',epochs,train_accuracies,'b')\n",
        "plt.ylim([0, 1])\n",
        "plt.xlim([0, 6])\n",
        "plt.title(\"learning rate= 1e-05\")\n",
        "plt.xlabel(\"epochs\")\n",
        "plt.ylabel(\"accuracy\")\n",
        "plt.savefig(f'/content/drive/My Drive/Review/Models/unprocessed_{LR}/Pmodel_graph_.png') "
      ],
      "metadata": {
        "colab": {
          "base_uri": "https://localhost:8080/",
          "height": 295
        },
        "id": "pU715o8iw2xo",
        "outputId": "488741eb-f5e2-4091-fd39-ab0612785756"
      },
      "execution_count": null,
      "outputs": [
        {
          "output_type": "display_data",
          "data": {
            "text/plain": [
              "<Figure size 432x288 with 1 Axes>"
            ],
            "image/png": "[encoded data removed]"
          },
          "metadata": {
            "needs_background": "light"
          }
        }
      ]
    },
    {
      "cell_type": "markdown",
      "source": [
        "Learning rate = 5e-5:"
      ],
      "metadata": {
        "id": "sKSXDQCSxQUR"
      }
    },
    {
      "cell_type": "code",
      "source": [
        "train_accuracy_1 = np.load(\"/content/drive/My Drive/Review/Models/unprocessed_5e-05/epoch_1/trainAcc.npy\",allow_pickle=True)\n",
        "train_accuracy_2 = np.load(\"/content/drive/My Drive/Review/Models/unprocessed_5e-05/epoch_2/trainAcc.npy\",allow_pickle=True)\n",
        "val_accuracy_1 = np.load(\"/content/drive/My Drive/Review/Models/unprocessed_5e-05/epoch_1/valAcc.npy\",allow_pickle=True)\n",
        "val_accuracy_2 = np.load(\"/content/drive/My Drive/Review/Models/unprocessed_5e-05/epoch_2/valAcc.npy\",allow_pickle=True)\n",
        "\n",
        "ltrain_accuracy_1=list(train_accuracy_1)\n",
        "ltrain_accuracy_2=list(train_accuracy_2)\n",
        "\n",
        "lval_accuracy_1=list(val_accuracy_1)\n",
        "lval_accuracy_2=list(val_accuracy_2)\n",
        "\n",
        "ltrain_accuracy=ltrain_accuracy_1 + ltrain_accuracy_2\n",
        "lval_accuracy = lval_accuracy_1 + lval_accuracy_2\n",
        "train_accuracies= np.array(ltrain_accuracy)\n",
        "val_accuracies= np.array(lval_accuracy)\n",
        "LR=5e-05\n",
        "epochs  =  [i for i in range(1,len(lval_accuracy)+1)]\n",
        "plt.plot(epochs, val_accuracies,'g',epochs,train_accuracies,'b')\n",
        "plt.ylim([0, 1])\n",
        "plt.xlim([1, 2])\n",
        "plt.title(\"learning rate= 5e-05\")\n",
        "plt.xlabel(\"epochs\")\n",
        "plt.ylabel(\"accuracy\")\n",
        "plt.savefig(f'/content/drive/My Drive/Review/Models/unprocessed_{LR}/Pmodel_graph_.png') "
      ],
      "metadata": {
        "colab": {
          "base_uri": "https://localhost:8080/",
          "height": 295
        },
        "id": "VujoCHV7xUPr",
        "outputId": "996d7d42-0c22-4f33-eb85-11ae6e6a941f"
      },
      "execution_count": null,
      "outputs": [
        {
          "output_type": "display_data",
          "data": {
            "text/plain": [
              "<Figure size 432x288 with 1 Axes>"
            ],
            "image/png": "[encoded data removed]"
          },
          "metadata": {
            "needs_background": "light"
          }
        }
      ]
    },
    {
      "cell_type": "markdown",
      "source": [
        "Learning rate = 1e-6:"
      ],
      "metadata": {
        "id": "Kfy859Akxphd"
      }
    },
    {
      "cell_type": "code",
      "source": [
        "train_accuracy_1 = np.load(\"/content/drive/My Drive/Review/Models/unprocessed_1e-06/epoch_1/trainAcc.npy\",allow_pickle=True)\n",
        "train_accuracy_2= np.load(\"/content/drive/My Drive/Review/Models/unprocessed_1e-06/epoch_2/trainAcc.npy\",allow_pickle=True)\n",
        "train_accuracy_3 = np.load(\"/content/drive/My Drive/Review/Models/unprocessed_1e-06/epoch_3/trainAcc.npy\",allow_pickle=True)\n",
        "train_accuracy_4= np.load(\"/content/drive/My Drive/Review/Models/unprocessed_1e-06/epoch_4/trainAcc.npy\",allow_pickle=True)\n",
        "train_accuracy_5 = np.load(\"/content/drive/My Drive/Review/Models/unprocessed_1e-06/epoch_5/trainAcc.npy\",allow_pickle=True)\n",
        "val_accuracy_1 = np.load(\"/content/drive/My Drive/Review/Models/unprocessed_1e-06/epoch_1/valAcc.npy\",allow_pickle=True)\n",
        "val_accuracy_2 = np.load(\"/content/drive/My Drive/Review/Models/unprocessed_1e-06/epoch_2/valAcc.npy\",allow_pickle=True)\n",
        "val_accuracy_3 = np.load(\"/content/drive/My Drive/Review/Models/unprocessed_1e-06/epoch_3/valAcc.npy\",allow_pickle=True)\n",
        "val_accuracy_4 = np.load(\"/content/drive/My Drive/Review/Models/unprocessed_1e-06/epoch_4/valAcc.npy\",allow_pickle=True)\n",
        "val_accuracy_5 = np.load(\"/content/drive/My Drive/Review/Models/unprocessed_1e-06/epoch_5/valAcc.npy\",allow_pickle=True)\n",
        "ltrain_accuracy_1=list(train_accuracy_1)\n",
        "ltrain_accuracy_2=list(train_accuracy_2)\n",
        "ltrain_accuracy_3=list(train_accuracy_3)\n",
        "ltrain_accuracy_4=list(train_accuracy_4)\n",
        "ltrain_accuracy_5=list(train_accuracy_5)\n",
        "lval_accuracy_1=list(val_accuracy_1)\n",
        "lval_accuracy_2=list(val_accuracy_2)\n",
        "lval_accuracy_3=list(val_accuracy_3)\n",
        "lval_accuracy_4=list(val_accuracy_4)\n",
        "lval_accuracy_5=list(val_accuracy_5)\n",
        "ltrain_accuracy=ltrain_accuracy_1 + ltrain_accuracy_2+ltrain_accuracy_3 + ltrain_accuracy_4+ltrain_accuracy_5 \n",
        "lval_accuracy = lval_accuracy_1 + lval_accuracy_2+lval_accuracy_3 + lval_accuracy_4+lval_accuracy_5 \n",
        "train_accuracies= np.array(ltrain_accuracy)\n",
        "val_accuracies= np.array(lval_accuracy)\n",
        "LR=1e-06\n",
        "epochs  =  [i for i in range(1,len(lval_accuracy)+1)]\n",
        "plt.plot(epochs, val_accuracies,'g',epochs,train_accuracies,'b')\n",
        "plt.ylim([0, 1])\n",
        "plt.xlim([0, 5])\n",
        "plt.title(\"learning rate= 1e-06\")\n",
        "plt.xlabel(\"epochs\")\n",
        "plt.ylabel(\"accuracy\")\n",
        "plt.savefig(f'/content/drive/My Drive/Review/Models/unprocessed_{LR}/Pmodel_graph_.png') "
      ],
      "metadata": {
        "colab": {
          "base_uri": "https://localhost:8080/",
          "height": 295
        },
        "id": "9Q8Ldy7CxtYg",
        "outputId": "d964e5e9-e657-4256-f042-004590d3c303"
      },
      "execution_count": null,
      "outputs": [
        {
          "output_type": "display_data",
          "data": {
            "text/plain": [
              "<Figure size 432x288 with 1 Axes>"
            ],
            "image/png": "[encoded data removed]"
          },
          "metadata": {
            "needs_background": "light"
          }
        }
      ]
    },
    {
      "cell_type": "markdown",
      "source": [
        "Learning rate = 5e-6"
      ],
      "metadata": {
        "id": "gR78oj8Ayw_e"
      }
    },
    {
      "cell_type": "code",
      "source": [
        "train_accuracy_1 = np.load(\"/content/drive/My Drive/Review/Models/unprocessed_5e-06/epoch_1/trainAcc.npy\",allow_pickle=True)\n",
        "train_accuracy_2= np.load(\"/content/drive/My Drive/Review/Models/unprocessed_5e-06/epoch_2/trainAcc.npy\",allow_pickle=True)\n",
        "train_accuracy_3 = np.load(\"/content/drive/My Drive/Review/Models/unprocessed_5e-06/epoch_3/trainAcc.npy\",allow_pickle=True)\n",
        "train_accuracy_4= np.load(\"/content/drive/My Drive/Review/Models/unprocessed_5e-06/epoch_4/trainAcc.npy\",allow_pickle=True)\n",
        "train_accuracy_5 = np.load(\"/content/drive/My Drive/Review/Models/unprocessed_5e-06/epoch_5/trainAcc.npy\",allow_pickle=True)\n",
        "train_accuracy_6= np.load(\"/content/drive/My Drive/Review/Models/unprocessed_5e-06/epoch_6/trainAcc.npy\",allow_pickle=True)\n",
        "val_accuracy_1 = np.load(\"/content/drive/My Drive/Review/Models/unprocessed_5e-06/epoch_1/valAcc.npy\",allow_pickle=True)\n",
        "val_accuracy_2 = np.load(\"/content/drive/My Drive/Review/Models/unprocessed_5e-06/epoch_2/valAcc.npy\",allow_pickle=True)\n",
        "val_accuracy_3 = np.load(\"/content/drive/My Drive/Review/Models/unprocessed_5e-06/epoch_3/valAcc.npy\",allow_pickle=True)\n",
        "val_accuracy_4 = np.load(\"/content/drive/My Drive/Review/Models/unprocessed_5e-06/epoch_4/valAcc.npy\",allow_pickle=True)\n",
        "val_accuracy_5 = np.load(\"/content/drive/My Drive/Review/Models/unprocessed_5e-06/epoch_5/valAcc.npy\",allow_pickle=True)\n",
        "val_accuracy_6 = np.load(\"/content/drive/My Drive/Review/Models/unprocessed_5e-06/epoch_6/valAcc.npy\",allow_pickle=True)\n",
        "ltrain_accuracy_1=list(train_accuracy_1)\n",
        "ltrain_accuracy_2=list(train_accuracy_2)\n",
        "ltrain_accuracy_3=list(train_accuracy_3)\n",
        "ltrain_accuracy_4=list(train_accuracy_4)\n",
        "ltrain_accuracy_5=list(train_accuracy_5)\n",
        "ltrain_accuracy_6=list(train_accuracy_6)\n",
        "lval_accuracy_1=list(val_accuracy_1)\n",
        "lval_accuracy_2=list(val_accuracy_2)\n",
        "lval_accuracy_3=list(val_accuracy_3)\n",
        "lval_accuracy_4=list(val_accuracy_4)\n",
        "lval_accuracy_5=list(val_accuracy_5)\n",
        "lval_accuracy_6=list(val_accuracy_6)\n",
        "ltrain_accuracy=ltrain_accuracy_1 + ltrain_accuracy_2+ltrain_accuracy_3 + ltrain_accuracy_4+ltrain_accuracy_5 + ltrain_accuracy_6\n",
        "lval_accuracy = lval_accuracy_1 + lval_accuracy_2+lval_accuracy_3 + lval_accuracy_4+lval_accuracy_5 + lval_accuracy_6\n",
        "train_accuracies= np.array(ltrain_accuracy)\n",
        "val_accuracies= np.array(lval_accuracy)\n",
        "LR=5e-06\n",
        "epochs  =  [i for i in range(1,len(lval_accuracy)+1)]\n",
        "plt.plot(epochs, val_accuracies,'g',epochs,train_accuracies,'b')\n",
        "plt.ylim([0, 1])\n",
        "plt.xlim([0, 6])\n",
        "plt.title(\"learning rate= 5e-06\")\n",
        "plt.xlabel(\"epochs\")\n",
        "plt.ylabel(\"accuracy\")\n",
        "plt.savefig(f'/content/drive/My Drive/Review/Models/unprocessed_{LR}/Pmodel_graph_.png') "
      ],
      "metadata": {
        "colab": {
          "base_uri": "https://localhost:8080/",
          "height": 295
        },
        "id": "QI6aDU9sy0Pc",
        "outputId": "8763b7d2-628e-46c0-9c4c-e25ad2f09b38"
      },
      "execution_count": null,
      "outputs": [
        {
          "output_type": "display_data",
          "data": {
            "text/plain": [
              "<Figure size 432x288 with 1 Axes>"
            ],
            "image/png": "[encoded data removed]"
          },
          "metadata": {
            "needs_background": "light"
          }
        }
      ]
    },
    {
      "cell_type": "markdown",
      "source": [
        "**the best validation accuracies for the different values of learning rate:**"
      ],
      "metadata": {
        "id": "HZzTIxeq2i8X"
      }
    },
    {
      "cell_type": "code",
      "source": [
        "val_accuracy_001 = np.load(\"/content/drive/My Drive/Review/Models/unprocessed_0.001/epoch_2/valAcc.npy\",allow_pickle=True)\n",
        "val_accuracy_0001 = np.load(\"/content/drive/My Drive/Review/Models/unprocessed_0.0001/epoch_2/valAcc.npy\",allow_pickle=True)\n",
        "val_accuracy_0005 = np.load(\"/content/drive/My Drive/Review/Models/unprocessed_0.0005/epoch_2/valAcc.npy\",allow_pickle=True)\n",
        "val_accuracy_1eneg5 = np.load(\"/content/drive/My Drive/Review/Models/unprocessed_1e-05/epoch_6/valAcc.npy\",allow_pickle=True)\n",
        "val_accuracy_5eneg5 = np.load(\"/content/drive/My Drive/Review/Models/unprocessed_5e-05/epoch_2/valAcc.npy\",allow_pickle=True)\n",
        "val_accuracy_1eneg6 = np.load(\"/content/drive/My Drive/Review/Models/unprocessed_1e-06/epoch_5/valAcc.npy\",allow_pickle=True)\n",
        "val_accuracy_5eneg6 = np.load(\"/content/drive/My Drive/Review/Models/unprocessed_5e-06/epoch_6/valAcc.npy\",allow_pickle=True)\n",
        "accuracies=[0.5,0.5,0.5,0.933,0.5,0.96,0.963]\n",
        "lrs=[\"1e-3\", \"1e-4\",\"5e-4\",\"1e-5\",\"5e-5\",\"1e-6\",\"5e-6\"]\n",
        "plt.bar(np.array(lrs),np.array(accuracies),  color ='blue',width = 0.4)\n",
        "plt.xlabel(\"Learning rate\")\n",
        "plt.ylabel(\"highest validation accuracy\")\n",
        "plt.title(\"Validation accuracy against learning rate\")\n",
        "plt.show()"
      ],
      "metadata": {
        "colab": {
          "base_uri": "https://localhost:8080/",
          "height": 295
        },
        "id": "1wfh8k3N2tZy",
        "outputId": "11ba2add-af93-4b04-b0fd-ef8cf995be66"
      },
      "execution_count": null,
      "outputs": [
        {
          "output_type": "display_data",
          "data": {
            "text/plain": [
              "<Figure size 432x288 with 1 Axes>"
            ],
            "image/png": "[encoded data removed]"
          },
          "metadata": {
            "needs_background": "light"
          }
        }
      ]
    },
    {
      "cell_type": "markdown",
      "source": [
        "# The functions of testing:"
      ],
      "metadata": {
        "id": "B3L9JOGcTEJm"
      }
    },
    {
      "cell_type": "code",
      "source": [
        "from sklearn import metrics\n",
        "\n",
        "def report(y_test, y_pred):\n",
        "    c_m = metrics.confusion_matrix(y_test, y_pred)\n",
        "    cm_display = metrics.ConfusionMatrixDisplay(confusion_matrix = c_m, display_labels = [False, True])\n",
        "    cm_display.plot()\n",
        "    plt.show()\n",
        "    print(f\"Accuracy: {accuracy_score(y_test, y_pred) * 100}\\n\")\n",
        "    print('Report:')\n",
        "    print(f\"{metrics.classification_report(y_test, y_pred)}\\n\", )\n",
        "\n",
        "def evaluate(model, test_data):\n",
        "    test = Dataset(test_data[0],test_data[1])\n",
        "    test_dataloader = torch.utils.data.DataLoader(test, batch_size=16)\n",
        "    use_cuda = torch.cuda.is_available()\n",
        "    device = torch.device(\"cuda\" if use_cuda else \"cpu\")\n",
        "\n",
        "    y_pred=[]\n",
        "\n",
        "    if use_cuda:\n",
        "        model = model.cuda()\n",
        "\n",
        "    total_acc_test = 0\n",
        "    with torch.no_grad():\n",
        "        for test_input, test_label in test_dataloader:\n",
        "            test_label = test_label.to(device)\n",
        "            mask        = test_input['attention_mask'].to(device)\n",
        "            input_id    = test_input['input_ids'].squeeze(1).to(device)\n",
        "            output      = model(input_id, mask)\n",
        "\n",
        "            output      = (output >0.5).float()\n",
        "            y_pred.append(output.tolist())\n",
        "          \n",
        "            test_label  = test_label.unsqueeze(1)\n",
        "            acc         = (output == test_label).sum().item()\n",
        "            total_acc_test += acc\n",
        "  \n",
        "    y_pred = list(np.concatenate(y_pred). flat)\n",
        "    report(test_data[1],y_pred)  \n",
        "\n",
        "    print(f'Test Accuracy: {total_acc_test / len(test_data[0]): .3f}')\n",
        "\n"
      ],
      "metadata": {
        "id": "dub8Zz1WTLhK"
      },
      "execution_count": null,
      "outputs": []
    },
    {
      "cell_type": "markdown",
      "source": [
        "# Evaluating the final models:"
      ],
      "metadata": {
        "id": "1PvJowV5YDXO"
      }
    },
    {
      "cell_type": "code",
      "source": [
        "unprocessed_final=BertClassifier()\n",
        "unprocessed_final.load_state_dict(torch.load('/content/drive/MyDrive/Review/Models/unprocessed_5e-06/epoch_6/model.pt'))\n",
        "\n",
        "preprocessed_final1=BertClassifier()\n",
        "preprocessed_final1.load_state_dict(torch.load('/content/drive/MyDrive/Review/Models/preprocessed_5e-06/epoch_6/model.pt'))\n",
        "\n",
        "\n"
      ],
      "metadata": {
        "id": "VCHpg55kYLSI",
        "colab": {
          "base_uri": "https://localhost:8080/"
        },
        "outputId": "31c50453-7728-4685-87e9-5b545920a585"
      },
      "execution_count": null,
      "outputs": [
        {
          "output_type": "stream",
          "name": "stderr",
          "text": [
            "Some weights of the model checkpoint at bert-base-cased were not used when initializing BertModel: ['cls.predictions.bias', 'cls.predictions.decoder.weight', 'cls.seq_relationship.bias', 'cls.predictions.transform.LayerNorm.weight', 'cls.predictions.transform.dense.bias', 'cls.seq_relationship.weight', 'cls.predictions.transform.dense.weight', 'cls.predictions.transform.LayerNorm.bias']\n",
            "- This IS expected if you are initializing BertModel from the checkpoint of a model trained on another task or with another architecture (e.g. initializing a BertForSequenceClassification model from a BertForPreTraining model).\n",
            "- This IS NOT expected if you are initializing BertModel from the checkpoint of a model that you expect to be exactly identical (initializing a BertForSequenceClassification model from a BertForSequenceClassification model).\n",
            "Some weights of the model checkpoint at bert-base-cased were not used when initializing BertModel: ['cls.predictions.bias', 'cls.predictions.decoder.weight', 'cls.seq_relationship.bias', 'cls.predictions.transform.LayerNorm.weight', 'cls.predictions.transform.dense.bias', 'cls.seq_relationship.weight', 'cls.predictions.transform.dense.weight', 'cls.predictions.transform.LayerNorm.bias']\n",
            "- This IS expected if you are initializing BertModel from the checkpoint of a model trained on another task or with another architecture (e.g. initializing a BertForSequenceClassification model from a BertForPreTraining model).\n",
            "- This IS NOT expected if you are initializing BertModel from the checkpoint of a model that you expect to be exactly identical (initializing a BertForSequenceClassification model from a BertForSequenceClassification model).\n",
            "Some weights of the model checkpoint at bert-base-cased were not used when initializing BertModel: ['cls.predictions.bias', 'cls.predictions.decoder.weight', 'cls.seq_relationship.bias', 'cls.predictions.transform.LayerNorm.weight', 'cls.predictions.transform.dense.bias', 'cls.seq_relationship.weight', 'cls.predictions.transform.dense.weight', 'cls.predictions.transform.LayerNorm.bias']\n",
            "- This IS expected if you are initializing BertModel from the checkpoint of a model trained on another task or with another architecture (e.g. initializing a BertForSequenceClassification model from a BertForPreTraining model).\n",
            "- This IS NOT expected if you are initializing BertModel from the checkpoint of a model that you expect to be exactly identical (initializing a BertForSequenceClassification model from a BertForSequenceClassification model).\n"
          ]
        },
        {
          "output_type": "execute_result",
          "data": {
            "text/plain": [
              "<All keys matched successfully>"
            ]
          },
          "metadata": {},
          "execution_count": 25
        }
      ]
    },
    {
      "cell_type": "code",
      "source": [
        "evaluate(unprocessed_final, [xup_test, yup_test])"
      ],
      "metadata": {
        "id": "nEI8YZsvg7Sv",
        "colab": {
          "base_uri": "https://localhost:8080/",
          "height": 522
        },
        "outputId": "c1b5095e-b6b9-432f-e134-3cdcc47e3d16"
      },
      "execution_count": null,
      "outputs": [
        {
          "output_type": "display_data",
          "data": {
            "text/plain": [
              "<Figure size 432x288 with 2 Axes>"
            ],
            "image/png": "[encoded data removed]"
          },
          "metadata": {
            "needs_background": "light"
          }
        },
        {
          "output_type": "stream",
          "name": "stdout",
          "text": [
            "Accuracy: 97.22\n",
            "\n",
            "Report:\n",
            "              precision    recall  f1-score   support\n",
            "\n",
            "           0       0.96      0.99      0.97      5000\n",
            "           1       0.99      0.96      0.97      5000\n",
            "\n",
            "    accuracy                           0.97     10000\n",
            "   macro avg       0.97      0.97      0.97     10000\n",
            "weighted avg       0.97      0.97      0.97     10000\n",
            "\n",
            "\n",
            "Test Accuracy:  0.972\n"
          ]
        }
      ]
    },
    {
      "cell_type": "code",
      "source": [
        "evaluate(preprocessed_final1, [xp_test, yp_test])"
      ],
      "metadata": {
        "colab": {
          "base_uri": "https://localhost:8080/",
          "height": 522
        },
        "id": "Oo_nSeq6KrSb",
        "outputId": "18546202-a89c-42de-d7bd-b7a7fa45f53d"
      },
      "execution_count": null,
      "outputs": [
        {
          "output_type": "display_data",
          "data": {
            "text/plain": [
              "<Figure size 432x288 with 2 Axes>"
            ],
            "image/png": "[encoded data removed]"
          },
          "metadata": {
            "needs_background": "light"
          }
        },
        {
          "output_type": "stream",
          "name": "stdout",
          "text": [
            "Accuracy: 95.64\n",
            "\n",
            "Report:\n",
            "              precision    recall  f1-score   support\n",
            "\n",
            "           0       0.94      0.98      0.96      5000\n",
            "           1       0.98      0.93      0.96      5000\n",
            "\n",
            "    accuracy                           0.96     10000\n",
            "   macro avg       0.96      0.96      0.96     10000\n",
            "weighted avg       0.96      0.96      0.96     10000\n",
            "\n",
            "\n",
            "Test Accuracy:  0.956\n"
          ]
        }
      ]
    },
    {
      "cell_type": "markdown",
      "source": [
        "The test accuracy of the model based on original data is better than preprocessed data, this might be because the preprocessing of data removed an important part of the data that affects the context of the data itself that contributes to a better learning for the model"
      ],
      "metadata": {
        "id": "G_s4h3vfOAd-"
      }
    }
  ]
}